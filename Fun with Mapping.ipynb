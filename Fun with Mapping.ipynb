{
 "cells": [
  {
   "cell_type": "code",
   "execution_count": 251,
   "metadata": {
    "collapsed": false
   },
   "outputs": [
    {
     "data": {
      "text/html": [
       "\n",
       "    <div class=\"bk-root\">\n",
       "        <a href=\"https://bokeh.pydata.org\" target=\"_blank\" class=\"bk-logo bk-logo-small bk-logo-notebook\"></a>\n",
       "        <span id=\"c4386460-79ba-4c68-ba32-f4418de4971e\">Loading BokehJS ...</span>\n",
       "    </div>"
      ]
     },
     "metadata": {},
     "output_type": "display_data"
    },
    {
     "data": {
      "application/javascript": [
       "\n",
       "(function(root) {\n",
       "  function now() {\n",
       "    return new Date();\n",
       "  }\n",
       "\n",
       "  var force = true;\n",
       "\n",
       "  if (typeof (root._bokeh_onload_callbacks) === \"undefined\" || force === true) {\n",
       "    root._bokeh_onload_callbacks = [];\n",
       "    root._bokeh_is_loading = undefined;\n",
       "  }\n",
       "\n",
       "\n",
       "  \n",
       "  if (typeof (root._bokeh_timeout) === \"undefined\" || force === true) {\n",
       "    root._bokeh_timeout = Date.now() + 5000;\n",
       "    root._bokeh_failed_load = false;\n",
       "  }\n",
       "\n",
       "  var NB_LOAD_WARNING = {'data': {'text/html':\n",
       "     \"<div style='background-color: #fdd'>\\n\"+\n",
       "     \"<p>\\n\"+\n",
       "     \"BokehJS does not appear to have successfully loaded. If loading BokehJS from CDN, this \\n\"+\n",
       "     \"may be due to a slow or bad network connection. Possible fixes:\\n\"+\n",
       "     \"</p>\\n\"+\n",
       "     \"<ul>\\n\"+\n",
       "     \"<li>re-rerun `output_notebook()` to attempt to load from CDN again, or</li>\\n\"+\n",
       "     \"<li>use INLINE resources instead, as so:</li>\\n\"+\n",
       "     \"</ul>\\n\"+\n",
       "     \"<code>\\n\"+\n",
       "     \"from bokeh.resources import INLINE\\n\"+\n",
       "     \"output_notebook(resources=INLINE)\\n\"+\n",
       "     \"</code>\\n\"+\n",
       "     \"</div>\"}};\n",
       "\n",
       "  function display_loaded() {\n",
       "    if (root.Bokeh !== undefined) {\n",
       "      var el = document.getElementById(\"c4386460-79ba-4c68-ba32-f4418de4971e\");\n",
       "      if (el != null) {\n",
       "        el.textContent = \"BokehJS \" + Bokeh.version + \" successfully loaded.\";\n",
       "      }\n",
       "    } else if (Date.now() < root._bokeh_timeout) {\n",
       "      setTimeout(display_loaded, 100)\n",
       "    }\n",
       "  }\n",
       "\n",
       "\n",
       "  function run_callbacks() {\n",
       "    try {\n",
       "      root._bokeh_onload_callbacks.forEach(function(callback) { callback() });\n",
       "    }\n",
       "    finally {\n",
       "      delete root._bokeh_onload_callbacks\n",
       "    }\n",
       "    console.info(\"Bokeh: all callbacks have finished\");\n",
       "  }\n",
       "\n",
       "  function load_libs(js_urls, callback) {\n",
       "    root._bokeh_onload_callbacks.push(callback);\n",
       "    if (root._bokeh_is_loading > 0) {\n",
       "      console.log(\"Bokeh: BokehJS is being loaded, scheduling callback at\", now());\n",
       "      return null;\n",
       "    }\n",
       "    if (js_urls == null || js_urls.length === 0) {\n",
       "      run_callbacks();\n",
       "      return null;\n",
       "    }\n",
       "    console.log(\"Bokeh: BokehJS not loaded, scheduling load and callback at\", now());\n",
       "    root._bokeh_is_loading = js_urls.length;\n",
       "    for (var i = 0; i < js_urls.length; i++) {\n",
       "      var url = js_urls[i];\n",
       "      var s = document.createElement('script');\n",
       "      s.src = url;\n",
       "      s.async = false;\n",
       "      s.onreadystatechange = s.onload = function() {\n",
       "        root._bokeh_is_loading--;\n",
       "        if (root._bokeh_is_loading === 0) {\n",
       "          console.log(\"Bokeh: all BokehJS libraries loaded\");\n",
       "          run_callbacks()\n",
       "        }\n",
       "      };\n",
       "      s.onerror = function() {\n",
       "        console.warn(\"failed to load library \" + url);\n",
       "      };\n",
       "      console.log(\"Bokeh: injecting script tag for BokehJS library: \", url);\n",
       "      document.getElementsByTagName(\"head\")[0].appendChild(s);\n",
       "    }\n",
       "  };var element = document.getElementById(\"c4386460-79ba-4c68-ba32-f4418de4971e\");\n",
       "  if (element == null) {\n",
       "    console.log(\"Bokeh: ERROR: autoload.js configured with elementid 'c4386460-79ba-4c68-ba32-f4418de4971e' but no matching script tag was found. \")\n",
       "    return false;\n",
       "  }\n",
       "\n",
       "  var js_urls = [\"https://cdn.pydata.org/bokeh/release/bokeh-0.12.7.min.js\", \"https://cdn.pydata.org/bokeh/release/bokeh-widgets-0.12.7.min.js\", \"https://cdn.pydata.org/bokeh/release/bokeh-tables-0.12.7.min.js\", \"https://cdn.pydata.org/bokeh/release/bokeh-gl-0.12.7.min.js\"];\n",
       "\n",
       "  var inline_js = [\n",
       "    function(Bokeh) {\n",
       "      Bokeh.set_log_level(\"info\");\n",
       "    },\n",
       "    \n",
       "    function(Bokeh) {\n",
       "      \n",
       "    },\n",
       "    \n",
       "    function(Bokeh) {\n",
       "      \n",
       "      document.getElementById(\"c4386460-79ba-4c68-ba32-f4418de4971e\").textContent = \"BokehJS is loading...\";\n",
       "    },\n",
       "    function(Bokeh) {\n",
       "      console.log(\"Bokeh: injecting CSS: https://cdn.pydata.org/bokeh/release/bokeh-0.12.7.min.css\");\n",
       "      Bokeh.embed.inject_css(\"https://cdn.pydata.org/bokeh/release/bokeh-0.12.7.min.css\");\n",
       "      console.log(\"Bokeh: injecting CSS: https://cdn.pydata.org/bokeh/release/bokeh-widgets-0.12.7.min.css\");\n",
       "      Bokeh.embed.inject_css(\"https://cdn.pydata.org/bokeh/release/bokeh-widgets-0.12.7.min.css\");\n",
       "      console.log(\"Bokeh: injecting CSS: https://cdn.pydata.org/bokeh/release/bokeh-tables-0.12.7.min.css\");\n",
       "      Bokeh.embed.inject_css(\"https://cdn.pydata.org/bokeh/release/bokeh-tables-0.12.7.min.css\");\n",
       "    }\n",
       "  ];\n",
       "\n",
       "  function run_inline_js() {\n",
       "    \n",
       "    if ((root.Bokeh !== undefined) || (force === true)) {\n",
       "      for (var i = 0; i < inline_js.length; i++) {\n",
       "        inline_js[i].call(root, root.Bokeh);\n",
       "      }if (force === true) {\n",
       "        display_loaded();\n",
       "      }} else if (Date.now() < root._bokeh_timeout) {\n",
       "      setTimeout(run_inline_js, 100);\n",
       "    } else if (!root._bokeh_failed_load) {\n",
       "      console.log(\"Bokeh: BokehJS failed to load within specified timeout.\");\n",
       "      root._bokeh_failed_load = true;\n",
       "    } else if (force !== true) {\n",
       "      var cell = $(document.getElementById(\"c4386460-79ba-4c68-ba32-f4418de4971e\")).parents('.cell').data().cell;\n",
       "      cell.output_area.append_execute_result(NB_LOAD_WARNING)\n",
       "    }\n",
       "\n",
       "  }\n",
       "\n",
       "  if (root._bokeh_is_loading === 0) {\n",
       "    console.log(\"Bokeh: BokehJS loaded, going straight to plotting\");\n",
       "    run_inline_js();\n",
       "  } else {\n",
       "    load_libs(js_urls, function() {\n",
       "      console.log(\"Bokeh: BokehJS plotting callback run at\", now());\n",
       "      run_inline_js();\n",
       "    });\n",
       "  }\n",
       "}(window));"
      ]
     },
     "metadata": {},
     "output_type": "display_data"
    }
   ],
   "source": [
    "import geopandas as gp\n",
    "import pandas as pd\n",
    "from geopandas import GeoDataFrame\n",
    "from bokeh.plotting import save\n",
    "import fiona\n",
    "from shapely.geometry import Point\n",
    "import gdal\n",
    "from bokeh.io import output_notebook\n",
    "from bokeh.models import ColumnDataSource, HoverTool, Circle, ColorBar, CategoricalColorMapper, LinearColorMapper\n",
    "from bokeh.plotting import figure, show, ColumnDataSource, output_file\n",
    "from bokeh.palettes import Category10\n",
    "\n",
    "from geopandas import GeoDataFrame as gdf\n",
    "output_notebook()"
   ]
  },
  {
   "cell_type": "markdown",
   "metadata": {},
   "source": [
    "Goal of Notebook:  First approach to getting data read into a map projection by way of Geopandas.  Hover tool tips are active and will show all data on an institution.  Only institutions that are represented on the 2016-17 U.S. Department of Education Institute of Education Sciences Institution list.  See Joining HERD.ipynb in the repo for list of ranks that fell out due to not having an institution ID.  \n",
    "\n",
    "The Good: Hover tools work well.  Show all data on cursor hover.\n",
    "\n",
    "The Relevant: pandas data frame 'dp' or data points, and its geopandas Geo Data Frame 'gdp' are used in the current projection.\n",
    "\n",
    "The Bad: Projection woes are here.  gdalwarp may be a functional saviour (11_18).  Aesthetically this map is ugly.\n",
    "\n",
    "The Irrelevant:  data frames 'df', 'df2' are currently unused in the map.  They contain different shapefiles that may or may not be useful for our purposes.  \n",
    "\n",
    "The Possibilities: Refocus only on mainland United States for now (sorry Hawaii and Alaska).  Split entries by state and project only each state's Universities.  Backdrop still outstanding.  "
   ]
  },
  {
   "cell_type": "code",
   "execution_count": 220,
   "metadata": {
    "collapsed": false
   },
   "outputs": [],
   "source": [
    "###read in data files\n",
    "df = gp.read_file(\"C:/Users/cgdeer/Downloads/cb_2017_us_nation_5m/cb_2017_us_nation_5m.dbf\")\n",
    "dp = pd.read_csv('~/HERD_Analysis/MergedShort2.csv')\n",
    "df2= gp.read_file(gp.datasets.get_path('naturalearth_lowres'))"
   ]
  },
  {
   "cell_type": "code",
   "execution_count": 205,
   "metadata": {
    "collapsed": false
   },
   "outputs": [
    {
     "data": {
      "text/plain": [
       "pandas.core.frame.DataFrame"
      ]
     },
     "execution_count": 205,
     "metadata": {},
     "output_type": "execute_result"
    }
   ],
   "source": [
    "###check headers, remove ';' to run result\n",
    "df.head;\n",
    "dp.head;\n",
    "df2.head;\n",
    "df4.head;\n",
    "type(dp)"
   ]
  },
  {
   "cell_type": "code",
   "execution_count": 53,
   "metadata": {
    "collapsed": false
   },
   "outputs": [
    {
     "data": {
      "text/plain": [
       "{'init': u'epsg:4326'}"
      ]
     },
     "execution_count": 53,
     "metadata": {},
     "output_type": "execute_result"
    }
   ],
   "source": [
    "###check crs for each data set\n",
    "df.crs"
   ]
  },
  {
   "cell_type": "code",
   "execution_count": null,
   "metadata": {
    "collapsed": false
   },
   "outputs": [],
   "source": []
  },
  {
   "cell_type": "code",
   "execution_count": 211,
   "metadata": {
    "collapsed": false
   },
   "outputs": [],
   "source": []
  },
  {
   "cell_type": "code",
   "execution_count": 213,
   "metadata": {
    "collapsed": true
   },
   "outputs": [],
   "source": []
  },
  {
   "cell_type": "code",
   "execution_count": 221,
   "metadata": {
    "collapsed": false
   },
   "outputs": [
    {
     "name": "stderr",
     "output_type": "stream",
     "text": [
      "WARNING:Fiona:CPLE_NotSupported in Normalized/laundered field name: 'Institution' to 'Institutio'\n",
      "WARNING:Fiona:CPLE_NotSupported in Normalized/laundered field name: 'All federal R&D expenditures' to 'All federa'\n"
     ]
    }
   ],
   "source": [
    "### Converting a Pandas data frame to a Geopandas GeoDataFrame\n",
    "\n",
    "geometry= [Point(xy)for xy in zip(dp['LON'], dp['LAT'])]\n",
    "#dp = dp.drop(['LON', 'LAT'], axis=1)\n",
    "crs = {'init': 'epsg:4269'}\n",
    "gdp = GeoDataFrame(dp, crs=crs, geometry=geometry)\n",
    "type(gdp);\n",
    "GeoDataFrame.to_file(gdp, \"gdp\")"
   ]
  },
  {
   "cell_type": "code",
   "execution_count": 223,
   "metadata": {
    "collapsed": false
   },
   "outputs": [
    {
     "data": {
      "text/html": [
       "<div>\n",
       "<style scoped>\n",
       "    .dataframe tbody tr th:only-of-type {\n",
       "        vertical-align: middle;\n",
       "    }\n",
       "\n",
       "    .dataframe tbody tr th {\n",
       "        vertical-align: top;\n",
       "    }\n",
       "\n",
       "    .dataframe thead th {\n",
       "        text-align: right;\n",
       "    }\n",
       "</style>\n",
       "<table border=\"1\" class=\"dataframe\">\n",
       "  <thead>\n",
       "    <tr style=\"text-align: right;\">\n",
       "      <th></th>\n",
       "      <th>UNITID</th>\n",
       "      <th>Rank</th>\n",
       "      <th>Institution</th>\n",
       "      <th>All federal R&amp;D expenditures</th>\n",
       "      <th>DOD</th>\n",
       "      <th>DOE</th>\n",
       "      <th>HHS</th>\n",
       "      <th>NASA</th>\n",
       "      <th>NSF</th>\n",
       "      <th>USDA</th>\n",
       "      <th>LAT</th>\n",
       "      <th>LON</th>\n",
       "      <th>Othera</th>\n",
       "      <th>geometry</th>\n",
       "    </tr>\n",
       "  </thead>\n",
       "  <tbody>\n",
       "    <tr>\n",
       "      <th>0</th>\n",
       "      <td>162928</td>\n",
       "      <td>1</td>\n",
       "      <td>Johns Hopkins U.b</td>\n",
       "      <td>2,104,653</td>\n",
       "      <td>1,037,685</td>\n",
       "      <td>9,125</td>\n",
       "      <td>618,525</td>\n",
       "      <td>252,470</td>\n",
       "      <td>37,379</td>\n",
       "      <td>537</td>\n",
       "      <td>39.328977</td>\n",
       "      <td>-76.621595</td>\n",
       "      <td>148,932</td>\n",
       "      <td>POINT (-76.621595 39.328977)</td>\n",
       "    </tr>\n",
       "    <tr>\n",
       "      <th>1</th>\n",
       "      <td>236948</td>\n",
       "      <td>2</td>\n",
       "      <td>U. Washington, Seattle</td>\n",
       "      <td>946,787</td>\n",
       "      <td>85,472</td>\n",
       "      <td>30,932</td>\n",
       "      <td>612,050</td>\n",
       "      <td>16,815</td>\n",
       "      <td>113,679</td>\n",
       "      <td>15,404</td>\n",
       "      <td>47.656213</td>\n",
       "      <td>-122.313115</td>\n",
       "      <td>72,435</td>\n",
       "      <td>POINT (-122.313115 47.656213)</td>\n",
       "    </tr>\n",
       "  </tbody>\n",
       "</table>\n",
       "</div>"
      ],
      "text/plain": [
       "   UNITID  Rank             Institution All federal R&D expenditures  \\\n",
       "0  162928     1       Johns Hopkins U.b                    2,104,653   \n",
       "1  236948     2  U. Washington, Seattle                      946,787   \n",
       "\n",
       "         DOD     DOE      HHS     NASA      NSF    USDA        LAT  \\\n",
       "0  1,037,685   9,125  618,525  252,470   37,379     537  39.328977   \n",
       "1     85,472  30,932  612,050   16,815  113,679  15,404  47.656213   \n",
       "\n",
       "          LON   Othera                       geometry  \n",
       "0  -76.621595  148,932   POINT (-76.621595 39.328977)  \n",
       "1 -122.313115   72,435  POINT (-122.313115 47.656213)  "
      ]
     },
     "execution_count": 223,
     "metadata": {},
     "output_type": "execute_result"
    }
   ],
   "source": [
    "gdp.head(2)\n"
   ]
  },
  {
   "cell_type": "code",
   "execution_count": null,
   "metadata": {
    "collapsed": true
   },
   "outputs": [],
   "source": [
    "### the data in dp for LAT LON were developed from Census \n",
    "###TIGER GCS North American Datum of 1983 (GCS NAD83), loading the\n",
    "###shapefile included in the EDGE_GEOCODE_POSTSECSCH_1617 shows that we\n",
    "###want to be in Epsg:4269, not EPSG:4326.\n",
    "###Next three cells were confirming this and can be OMITTED"
   ]
  },
  {
   "cell_type": "code",
   "execution_count": 61,
   "metadata": {
    "collapsed": false
   },
   "outputs": [],
   "source": [
    "###df3file='c:/Users/cgdeer/HERD_Analysis/EDGE_GEOCODE_POSTSECSCH_1617/EDGE_GEOCODE_POSTSECSCH_1617.dbf'"
   ]
  },
  {
   "cell_type": "code",
   "execution_count": 62,
   "metadata": {
    "collapsed": false
   },
   "outputs": [],
   "source": [
    "#df3= gp.read_file(df3file)"
   ]
  },
  {
   "cell_type": "code",
   "execution_count": 63,
   "metadata": {
    "collapsed": false
   },
   "outputs": [
    {
     "data": {
      "text/plain": [
       "{'init': u'epsg:4269'}"
      ]
     },
     "execution_count": 63,
     "metadata": {},
     "output_type": "execute_result"
    }
   ],
   "source": [
    "#df3.crs"
   ]
  },
  {
   "cell_type": "code",
   "execution_count": 233,
   "metadata": {
    "collapsed": true
   },
   "outputs": [],
   "source": [
    "df = df.to_crs({'init':'epsg:5070'})\n",
    "df2 = df2.to_crs({'init':'epsg:5070'})\n",
    "#add shapefile conversion"
   ]
  },
  {
   "cell_type": "code",
   "execution_count": 196,
   "metadata": {
    "collapsed": false
   },
   "outputs": [
    {
     "data": {
      "text/plain": [
       "{'init': 'epsg:4269'}"
      ]
     },
     "execution_count": 196,
     "metadata": {},
     "output_type": "execute_result"
    }
   ],
   "source": [
    "df2.crs"
   ]
  },
  {
   "cell_type": "code",
   "execution_count": 65,
   "metadata": {
    "collapsed": false
   },
   "outputs": [
    {
     "data": {
      "image/png": "[encoded data removed]",
      "text/plain": [
       "<matplotlib.figure.Figure at 0x15178b70>"
      ]
     },
     "metadata": {},
     "output_type": "display_data"
    }
   ],
   "source": [
    "###%matplotlib inline\n",
    "###ax= df.plot()\n",
    "\n"
   ]
  },
  {
   "cell_type": "code",
   "execution_count": 86,
   "metadata": {
    "collapsed": true
   },
   "outputs": [],
   "source": [
    "##make a copy of df2 as a operating variable\n",
    "df4= df2"
   ]
  },
  {
   "cell_type": "code",
   "execution_count": 89,
   "metadata": {
    "collapsed": false
   },
   "outputs": [
    {
     "data": {
      "image/png": "[encoded data removed]",
      "text/plain": [
       "<matplotlib.figure.Figure at 0x137cf4e0>"
      ]
     },
     "metadata": {},
     "output_type": "display_data"
    }
   ],
   "source": [
    "###make a variable to contain Guam\n",
    "df5 = df2[df2['continent']=='Oceania']\n",
    "dx=df5.plot()"
   ]
  },
  {
   "cell_type": "code",
   "execution_count": 77,
   "metadata": {
    "collapsed": false
   },
   "outputs": [],
   "source": [
    "### I wanted to reduce the map to only USA, Puerto Rico, and Guam.\n",
    "### However, gp.overlay with a how=intersection doesnt work bc df3 doesn't\n",
    "### contain multi geometries. smae goes with how='union'\n",
    "\n",
    "\n",
    "###df34intersect = gp.overlay(df3,df4, how='intersection')"
   ]
  },
  {
   "cell_type": "code",
   "execution_count": 85,
   "metadata": {
    "collapsed": false
   },
   "outputs": [
    {
     "ename": "TypeError",
     "evalue": "unsupported operand type(s) for &: 'str' and 'str'",
     "output_type": "error",
     "traceback": [
      "\u001b[1;31m---------------------------------------------------------------------------\u001b[0m",
      "\u001b[1;31mTypeError\u001b[0m                                 Traceback (most recent call last)",
      "\u001b[1;32m<ipython-input-85-7ef1d932fc72>\u001b[0m in \u001b[0;36m<module>\u001b[1;34m()\u001b[0m\n\u001b[0;32m      1\u001b[0m \u001b[1;31m###Select North America\u001b[0m\u001b[1;33m\u001b[0m\u001b[1;33m\u001b[0m\u001b[0m\n\u001b[1;32m----> 2\u001b[1;33m \u001b[0mdf4\u001b[0m \u001b[1;33m=\u001b[0m \u001b[0mdf4\u001b[0m\u001b[1;33m[\u001b[0m\u001b[0mdf4\u001b[0m\u001b[1;33m[\u001b[0m\u001b[1;34m'continent'\u001b[0m\u001b[1;33m]\u001b[0m \u001b[1;33m==\u001b[0m \u001b[1;34m'North America'\u001b[0m\u001b[1;33m&\u001b[0m \u001b[1;34m'Guam'\u001b[0m\u001b[1;33m]\u001b[0m\u001b[1;33m\u001b[0m\u001b[0m\n\u001b[0m",
      "\u001b[1;31mTypeError\u001b[0m: unsupported operand type(s) for &: 'str' and 'str'"
     ]
    }
   ],
   "source": [
    "###Select North America \n",
    "df6 = df4[df4['continent'] == 'North America']\n"
   ]
  },
  {
   "cell_type": "code",
   "execution_count": 255,
   "metadata": {
    "collapsed": false
   },
   "outputs": [],
   "source": [
    "\n"
   ]
  },
  {
   "cell_type": "code",
   "execution_count": 258,
   "metadata": {
    "collapsed": false
   },
   "outputs": [
    {
     "data": {
      "text/plain": [
       "{'init': 'epsg:4269'}"
      ]
     },
     "execution_count": 258,
     "metadata": {},
     "output_type": "execute_result"
    }
   ],
   "source": []
  },
  {
   "cell_type": "code",
   "execution_count": 40,
   "metadata": {
    "collapsed": true
   },
   "outputs": [],
   "source": [
    "geomP= [Point(xy) for xy in zip(dp[\"LON\"], dp[\"LAT\"])]"
   ]
  },
  {
   "cell_type": "code",
   "execution_count": 67,
   "metadata": {
    "collapsed": false
   },
   "outputs": [
    {
     "data": {
      "image/png": "[encoded data removed]",
      "text/plain": [
       "<matplotlib.figure.Figure at 0x137e7780>"
      ]
     },
     "metadata": {},
     "output_type": "display_data"
    }
   ],
   "source": [
    "%matplotlib inline\n",
    "bx= df2.plot()"
   ]
  },
  {
   "cell_type": "code",
   "execution_count": 259,
   "metadata": {
    "collapsed": false
   },
   "outputs": [],
   "source": [
    "###trying to follow example from https://bokeh.pydata.org/en/latest/docs/gallery/texas.html\n",
    "#failed\n",
    "###trying to follow example from http://www.bigendiandata.com/2017-06-27-Mapping_in_Jupyter/\n",
    "#without the GMap stuff\n",
    "color_mapper= LinearColorMapper(palette='Viridis6')\n",
    "source = ColumnDataSource(\n",
    "data=dict(\n",
    "        lat = gdp.LAT.tolist(),\n",
    "        lon = gdp.LON.tolist(),\n",
    "        rank= gdp.Rank.tolist(),\n",
    "        institution= gdp.Institution.tolist(),\n",
    "        \n",
    "        DOD= gdp.DOD.tolist(),\n",
    "        DOE= gdp.DOE.tolist(),\n",
    "        NSF= gdp.NSF.tolist(),\n",
    "\n",
    "        \n",
    "    ))\n",
    "circle =Circle(x='lon',y='lat', size=5, fill_alpha='rank')"
   ]
  },
  {
   "cell_type": "code",
   "execution_count": null,
   "metadata": {
    "collapsed": false
   },
   "outputs": [],
   "source": []
  },
  {
   "cell_type": "code",
   "execution_count": 245,
   "metadata": {
    "collapsed": false
   },
   "outputs": [
    {
     "data": {
      "text/html": [
       "\n",
       "\n",
       "    <div class=\"bk-root\">\n",
       "        <div class=\"bk-plotdiv\" id=\"1b27d4dd-d333-4358-9af7-62548f2b13d1\"></div>\n",
       "    </div>\n",
       "<script type=\"text/javascript\">\n",
       "  \n",
       "  (function(root) {\n",
       "    function now() {\n",
       "      return new Date();\n",
       "    }\n",
       "  \n",
       "    var force = false;\n",
       "  \n",
       "    if (typeof (root._bokeh_onload_callbacks) === \"undefined\" || force === true) {\n",
       "      root._bokeh_onload_callbacks = [];\n",
       "      root._bokeh_is_loading = undefined;\n",
       "    }\n",
       "  \n",
       "  \n",
       "    \n",
       "    if (typeof (root._bokeh_timeout) === \"undefined\" || force === true) {\n",
       "      root._bokeh_timeout = Date.now() + 0;\n",
       "      root._bokeh_failed_load = false;\n",
       "    }\n",
       "  \n",
       "    var NB_LOAD_WARNING = {'data': {'text/html':\n",
       "       \"<div style='background-color: #fdd'>\\n\"+\n",
       "       \"<p>\\n\"+\n",
       "       \"BokehJS does not appear to have successfully loaded. If loading BokehJS from CDN, this \\n\"+\n",
       "       \"may be due to a slow or bad network connection. Possible fixes:\\n\"+\n",
       "       \"</p>\\n\"+\n",
       "       \"<ul>\\n\"+\n",
       "       \"<li>re-rerun `output_notebook()` to attempt to load from CDN again, or</li>\\n\"+\n",
       "       \"<li>use INLINE resources instead, as so:</li>\\n\"+\n",
       "       \"</ul>\\n\"+\n",
       "       \"<code>\\n\"+\n",
       "       \"from bokeh.resources import INLINE\\n\"+\n",
       "       \"output_notebook(resources=INLINE)\\n\"+\n",
       "       \"</code>\\n\"+\n",
       "       \"</div>\"}};\n",
       "  \n",
       "    function display_loaded() {\n",
       "      if (root.Bokeh !== undefined) {\n",
       "        var el = document.getElementById(\"1b27d4dd-d333-4358-9af7-62548f2b13d1\");\n",
       "        if (el != null) {\n",
       "          el.textContent = \"BokehJS \" + Bokeh.version + \" successfully loaded.\";\n",
       "        }\n",
       "      } else if (Date.now() < root._bokeh_timeout) {\n",
       "        setTimeout(display_loaded, 100)\n",
       "      }\n",
       "    }\n",
       "  \n",
       "  \n",
       "    function run_callbacks() {\n",
       "      try {\n",
       "        root._bokeh_onload_callbacks.forEach(function(callback) { callback() });\n",
       "      }\n",
       "      finally {\n",
       "        delete root._bokeh_onload_callbacks\n",
       "      }\n",
       "      console.info(\"Bokeh: all callbacks have finished\");\n",
       "    }\n",
       "  \n",
       "    function load_libs(js_urls, callback) {\n",
       "      root._bokeh_onload_callbacks.push(callback);\n",
       "      if (root._bokeh_is_loading > 0) {\n",
       "        console.log(\"Bokeh: BokehJS is being loaded, scheduling callback at\", now());\n",
       "        return null;\n",
       "      }\n",
       "      if (js_urls == null || js_urls.length === 0) {\n",
       "        run_callbacks();\n",
       "        return null;\n",
       "      }\n",
       "      console.log(\"Bokeh: BokehJS not loaded, scheduling load and callback at\", now());\n",
       "      root._bokeh_is_loading = js_urls.length;\n",
       "      for (var i = 0; i < js_urls.length; i++) {\n",
       "        var url = js_urls[i];\n",
       "        var s = document.createElement('script');\n",
       "        s.src = url;\n",
       "        s.async = false;\n",
       "        s.onreadystatechange = s.onload = function() {\n",
       "          root._bokeh_is_loading--;\n",
       "          if (root._bokeh_is_loading === 0) {\n",
       "            console.log(\"Bokeh: all BokehJS libraries loaded\");\n",
       "            run_callbacks()\n",
       "          }\n",
       "        };\n",
       "        s.onerror = function() {\n",
       "          console.warn(\"failed to load library \" + url);\n",
       "        };\n",
       "        console.log(\"Bokeh: injecting script tag for BokehJS library: \", url);\n",
       "        document.getElementsByTagName(\"head\")[0].appendChild(s);\n",
       "      }\n",
       "    };var element = document.getElementById(\"1b27d4dd-d333-4358-9af7-62548f2b13d1\");\n",
       "    if (element == null) {\n",
       "      console.log(\"Bokeh: ERROR: autoload.js configured with elementid '1b27d4dd-d333-4358-9af7-62548f2b13d1' but no matching script tag was found. \")\n",
       "      return false;\n",
       "    }\n",
       "  \n",
       "    var js_urls = [];\n",
       "  \n",
       "    var inline_js = [\n",
       "      function(Bokeh) {\n",
       "        (function() {\n",
       "          var fn = function() {\n",
       "            var docs_json = {\"da235029-7726-470a-9e0a-473744c03fcc\":{\"roots\":{\"references\":[{\"attributes\":{\"active_drag\":\"auto\",\"active_inspect\":\"auto\",\"active_scroll\":\"auto\",\"active_tap\":\"auto\",\"tools\":[{\"id\":\"6b083c41-11c1-4c4a-92b4-ec95e764b48b\",\"type\":\"PanTool\"},{\"id\":\"b5878f93-b91e-441f-b058-dfa352d60fdd\",\"type\":\"WheelZoomTool\"},{\"id\":\"b2979b16-b4b7-4e7f-ab39-78e9abb16df5\",\"type\":\"BoxZoomTool\"},{\"id\":\"f4d77cd0-6813-4ef7-a443-3f65ee49d658\",\"type\":\"SaveTool\"},{\"id\":\"efed357b-f17c-4b1f-b008-6afd4e7157a7\",\"type\":\"ResetTool\"},{\"id\":\"f7b28caf-b5bf-4b74-82dc-db0b1da7ec8e\",\"type\":\"HelpTool\"},{\"id\":\"48a047ae-ff0c-4e30-914f-b24903e59a68\",\"type\":\"HoverTool\"}]},\"id\":\"38d6d0ce-8dd6-4d3d-b440-372fc82137ef\",\"type\":\"Toolbar\"},{\"attributes\":{},\"id\":\"f4d77cd0-6813-4ef7-a443-3f65ee49d658\",\"type\":\"SaveTool\"},{\"attributes\":{\"formatter\":{\"id\":\"88599d9f-850a-46b8-ad16-ac43970af268\",\"type\":\"BasicTickFormatter\"},\"plot\":{\"id\":\"af750d68-e144-4334-b838-d1514b83e751\",\"subtype\":\"Figure\",\"type\":\"Plot\"},\"ticker\":{\"id\":\"6b3fcf2e-7f9d-4fb8-86b8-87b74de6df40\",\"type\":\"BasicTicker\"}},\"id\":\"6a984476-a420-400c-b1db-79d88879403a\",\"type\":\"LinearAxis\"},{\"attributes\":{\"dimension\":1,\"plot\":{\"id\":\"af750d68-e144-4334-b838-d1514b83e751\",\"subtype\":\"Figure\",\"type\":\"Plot\"},\"ticker\":{\"id\":\"a80164bc-9a25-48ff-8569-2a26ebd4a055\",\"type\":\"BasicTicker\"}},\"id\":\"bab8139d-ab9a-4456-bc49-70a3561c1253\",\"type\":\"Grid\"},{\"attributes\":{\"plot\":null,\"text\":\"Points with Tooltips\"},\"id\":\"bf7777df-76df-4d40-8f76-ca95462fab6c\",\"type\":\"Title\"},{\"attributes\":{\"callback\":null,\"tooltips\":[[\"institution\",\"@institution\"],[\"lon \",\"@lon\"],[\"lat \",\"@lat\"],[\"rank\",\"@rank\"],[\"DOD \",\"@DOD\"],[\"DOE \",\"@DOE\"],[\"NSF \",\"@NSF\"]]},\"id\":\"48a047ae-ff0c-4e30-914f-b24903e59a68\",\"type\":\"HoverTool\"},{\"attributes\":{},\"id\":\"a80164bc-9a25-48ff-8569-2a26ebd4a055\",\"type\":\"BasicTicker\"},{\"attributes\":{},\"id\":\"6b083c41-11c1-4c4a-92b4-ec95e764b48b\",\"type\":\"PanTool\"},{\"attributes\":{\"callback\":null},\"id\":\"81b826c3-8d81-4bb3-9d00-5f47df9b58e5\",\"type\":\"DataRange1d\"},{\"attributes\":{},\"id\":\"efed357b-f17c-4b1f-b008-6afd4e7157a7\",\"type\":\"ResetTool\"},{\"attributes\":{},\"id\":\"6b3fcf2e-7f9d-4fb8-86b8-87b74de6df40\",\"type\":\"BasicTicker\"},{\"attributes\":{\"overlay\":{\"id\":\"596ec490-be1a-47f1-80a1-1c40baaedcd1\",\"type\":\"BoxAnnotation\"}},\"id\":\"b2979b16-b4b7-4e7f-ab39-78e9abb16df5\",\"type\":\"BoxZoomTool\"},{\"attributes\":{},\"id\":\"88599d9f-850a-46b8-ad16-ac43970af268\",\"type\":\"BasicTickFormatter\"},{\"attributes\":{},\"id\":\"f7b28caf-b5bf-4b74-82dc-db0b1da7ec8e\",\"type\":\"HelpTool\"},{\"attributes\":{\"callback\":null},\"id\":\"c24a9610-2dba-49b3-b239-b3011d69aec1\",\"type\":\"DataRange1d\"},{\"attributes\":{},\"id\":\"b76ebc66-fcc3-4f50-80a8-125e8cc00dbd\",\"type\":\"LinearScale\"},{\"attributes\":{\"plot\":{\"id\":\"af750d68-e144-4334-b838-d1514b83e751\",\"subtype\":\"Figure\",\"type\":\"Plot\"},\"ticker\":{\"id\":\"6b3fcf2e-7f9d-4fb8-86b8-87b74de6df40\",\"type\":\"BasicTicker\"}},\"id\":\"0ba0466f-a4b3-43d0-91e9-6e5379d1663a\",\"type\":\"Grid\"},{\"attributes\":{},\"id\":\"185b76b1-2a67-4383-a28b-909c666f51c5\",\"type\":\"LinearScale\"},{\"attributes\":{\"formatter\":{\"id\":\"9c859657-d874-48b8-a260-a35a118b6655\",\"type\":\"BasicTickFormatter\"},\"plot\":{\"id\":\"af750d68-e144-4334-b838-d1514b83e751\",\"subtype\":\"Figure\",\"type\":\"Plot\"},\"ticker\":{\"id\":\"a80164bc-9a25-48ff-8569-2a26ebd4a055\",\"type\":\"BasicTicker\"}},\"id\":\"0f706499-bd68-453f-ade6-e1784c97aa5f\",\"type\":\"LinearAxis\"},{\"attributes\":{},\"id\":\"b5878f93-b91e-441f-b058-dfa352d60fdd\",\"type\":\"WheelZoomTool\"},{\"attributes\":{\"bottom_units\":\"screen\",\"fill_alpha\":{\"value\":0.5},\"fill_color\":{\"value\":\"lightgrey\"},\"left_units\":\"screen\",\"level\":\"overlay\",\"line_alpha\":{\"value\":1.0},\"line_color\":{\"value\":\"black\"},\"line_dash\":[4,4],\"line_width\":{\"value\":2},\"plot\":null,\"render_mode\":\"css\",\"right_units\":\"screen\",\"top_units\":\"screen\"},\"id\":\"596ec490-be1a-47f1-80a1-1c40baaedcd1\",\"type\":\"BoxAnnotation\"},{\"attributes\":{\"fill_alpha\":{\"field\":\"rank\"},\"size\":{\"units\":\"screen\",\"value\":5},\"x\":{\"field\":\"lon\"},\"y\":{\"field\":\"lat\"}},\"id\":\"d85f57dd-e75b-4220-95b9-1bed85b0907f\",\"type\":\"Circle\"},{\"attributes\":{\"source\":{\"id\":\"2ae0a18d-6439-4623-abd8-30ae73dcdeaa\",\"type\":\"ColumnDataSource\"}},\"id\":\"bb36be89-ce94-4cd2-abac-877aac7b3d0e\",\"type\":\"CDSView\"},{\"attributes\":{\"data_source\":{\"id\":\"2ae0a18d-6439-4623-abd8-30ae73dcdeaa\",\"type\":\"ColumnDataSource\"},\"glyph\":{\"id\":\"d85f57dd-e75b-4220-95b9-1bed85b0907f\",\"type\":\"Circle\"},\"hover_glyph\":null,\"muted_glyph\":null,\"view\":{\"id\":\"bb36be89-ce94-4cd2-abac-877aac7b3d0e\",\"type\":\"CDSView\"}},\"id\":\"d0e7bf9b-f539-4945-9044-00c39b40df83\",\"type\":\"GlyphRenderer\"},{\"attributes\":{\"callback\":null,\"column_names\":[\"DOD\",\"NSF\",\"lat\",\"lon\",\"institution\",\"rank\",\"DOE\"],\"data\":{\"DOD\":[\"1,037,685\",\"85,472\",\"79,997\",\"82,737\",\"55,334\",\"14,909\",\"77,522\",\"21,949\",\"35,113\",\"42,008\",\"57,998\",\"396,202\",\"26,141\",\"53,126\",\"215,261\",\"135,565\",\"21,421\",\"38,600\",\"584\",\"20,952\",\"31,672\",\"1,114\",\"10,334\",\"38,566\",\"30,988\",\"74,345\",\"29,424\",\"30,380\",\"82,419\",\"8,903\",\"134,638\",\"11,576\",\"20,177\",\"42,163\",\"5,527\",\"35,827\",\"17,929\",\"42,948\",\"15,288\",\"13,906\",\"9,550\",\"27,814\",\"7,892\",\"18,668\",\"17,103\",\"10,196\",\"463\",\"6,326\",\"28,592\",\"20,650\",\"19,480\",\"10,702\",\"18,295\",\"8,128\",\"60,101\",\"6,834\",\"34,541\",\"5,242\",\"14,792\",\"32,184\",\"24,592\",\"18,509\",\"28,180\",\"42,177\",\"18,718\",\"52,563\",\"48,656\",\"6,642\",\"4,033\",\"25289\",\"6,387\",\"13,961\",\"26,103\",\"18,439\",\"12,124\",\"3,745\",\"3,352\",\"9,547\",\"4,838\",\"12,501\",\"6,087\",\"23,981\",\"8,439\",\"6,958\",\"8,203\",\"12,801\",\"7,539\",\"6,180\",\"12,506\",\"12,641\",\"60,221\",\"9,126\",\"4,981\",\"3,294\",\"5,762\",\"31,346\",\"17,661\",\"5,287\",\"10,417\",\"398\",\"8,219\",\"5,390\",\"11,783\",\"76,886\",\"5,157\",\"7,976\",\"1,765\",\"4,923\",\"2,688\",\"6,907\",\"9,720\",\"2,506\",\"31,751\",\"13,439\",\"19,713\",\"5,943\",\"10,340\",\"19,327\",\"2,577\",\"13,966\",\"6,156\",\"1,482\",\"2,600\",\"5,037\",\"4,328\",\"1,460\",\"3,902\",\"2,865\",\"7,009\",\"10,698\",\"14,921\",\"8,456\",\"1,213\",\"5,175\",\"602\",\"4,319\",\"29,063\",\"6,172\",\"4,125\",\"2,100\",\"17,597\",\"52,304\",\"5,059\",\"1,289\",\"2,576\",\"9,129\",\"3,523\",\"7,952\",\"93\",\"1,051\",\"2,095\",\"1,064\",\"829\",\"44,934\",\"3,792\",\"7,754\",\"273\",\"4,714\",\"1,236\",\"5,609\",\"4,843\",\"2,438\",\"2,104\",\"1,332\",\"4,311\",\"3,585\",\"981\",\"8,724\",\"586\",\"3,315\",\"2,129\",\"87\",\"5,397\",\"2,397\",\"522\",\"341\",\"789\",\"988\",\"17,039\",\"11,227\",\"201\",\"13,180\",\"143\",\"4,871\",\"2,954\",\"1,615\",\"7,822\",\"49\",\"2,952\",\"335\",\"4,246\",\"6,555\",\"9,382\",\"928\",\"6,316\",\"247\",\"1,554\",\"7,734\",\"13,174\",\"1,053\",\"1,989\",\"3,266\",\"2,910\",\"181\",\"4,247\",\"9,555\",\"19,055\",\"3,409\",\"1,283\",\"0\",\"3,727\",\"4,650\",\"276\",\"676\",\"24\",\"935\",\"19,383\",\"2,832\",\"1,759\",\"2,550\",\"693\",\"1,000\",\"2,781\",\"588\",\"509\",\"1,613\",\"2,764\",\"779\",\"890\",\"4,329\",\"1,951\",\"1,043\",\"2,014\",\"1,656\",\"2,532\",\"841\",\"1,139\",\"157\",\"771\",\"78\",\"13,481\",\"1,904\",\"792\",\"280\",\"236\",\"2,478\",\"1,112\",\"718\",\"770\",\"2,345\",\"1,499\",\"38\",\"241\",\"2,606\",\"1,004\",\"159\",\"132\",\"10,432\",\"0\",\"427\",\"896\",\"436\",\"564\",\"770\",\"96\",\"667\",\"0\",\"4,157\",\"481\",\"436\",\"74\",\"729\",\"410\",\"1,454\",\"2,936\",\"445\",\"189\",\"18\",\"198\",\"566\",\"18\",\"638\",\"348\",\"1,092\",\"59\",\"367\",\"1,006\",\"0\",\"333\",\"0\",\"58\",\"1,911\",\"1,711\",\"906\",\"0\",\"1,297\",\"553\",\"1,447\",\"156\",\"948\",\"391\",\"182\",\"0\",\"617\",\"1,132\",\"1,596\",\"246\",\"0\",\"126\",\"971\",\"39\",\"76\",\"197\",\"47\",\"567\",\"444\",\"0\",\"135\",\"88\",\"0\",\"0\",\"0\",\"909\",\"0\",\"607\",\"0\",\"236\",\"151\",\"0\",\"0\",\"14\",\"293\",\"0\",\"0\",\"7\",\"734\",\"121\",\"362\",\"911\",\"120\",\"1,849\",\"0\",\"1,973\",\"418\",\"0\",\"0\",\"33\",\"62\",\"56\",\"83\",\"0\",\"301\",\"0\",\"323\",\"142\",\"1,284\",\"0\",\"144\",\"356\",\"0\",\"176\",\"0\",\"344\",\"0\",\"56\",\"304\",\"0\",\"260\",\"70\",\"0\",\"794\",\"356\",\"138\",\"0\",\"1,090\",\"0\",\"0\",\"0\",\"280\",\"69\",\"1,377\",\"0\",\"0\",\"217\",\"0\",\"0\",\"0\",\"0\",\"466\",\"0\",\"0\",\"50\",\"210\",\"515\",\"1,472\",\"128\",\"0\",\"0\",\"70\",\"0\",\"0\",\"0\",\"0\",\"0\",\"57\",\"9\",\"0\",\"0\",\"0\",\"730\",\"116\",\"156\",\"0\",\"234\",\"100\",\"27\",\"0\",\"159\",\"0\",\"0\",\"0\",\"0\",\"0\",\"74\",\"184\",\"0\",\"146\",\"82\",\"172\",\"43\",\"314\",\"20\",\"2\",\"0\",\"169\",\"2\",\"0\",\"0\",\"610\",\"663\",\"51\",\"0\",\"1,200\",\"39\",\"0\",\"0\",\"44\",\"0\",\"46\",\"33\",\"0\",\"40\",\"0\",\"0\",\"0\",\"163\",\"81\",\"0\",\"0\",\"0\",\"0\",\"28\",\"19\",\"0\",\"87\",\"0\",\"0\",\"0\",\"51\",\"0\",\"0\",\"122\",\"43\",\"0\",\"0\",\"0\",\"0\",\"0\",\"0\",\"50\",\"0\",\"0\",\"0\",\"0\",\"0\",\"148\",\"333\",\"141\",\"623\",\"0\",\"0\",\"352\",\"49\",\"0\",\"0\",\"0\",\"272\",\"0\",\"0\",\"765\",\"30\",\"85\",\"8\",\"0\",\"33\",\"26\",\"0\",\"0\",\"0\",\"313\",\"0\",\"0\",\"0\",\"0\",\"0\",\"0\",\"0\",\"0\",\"30\",\"18\",\"0\",\"0\",\"734\",\"0\",\"152\",\"0\",\"20\",\"0\",\"55\",\"0\",\"0\",\"0\",\"14\",\"5\",\"0\",\"149\",\"0\",\"2\",\"0\",\"42\",\"20\",\"24\",\"0\",\"64\",\"0\",\"0\",\"0\",\"228\",\"28\",\"0\",\"0\",\"88\",\"2\",\"0\",\"0\",\"0\",\"0\",\"0\",\"0\",\"267\",\"0\",\"232\",\"21\",\"0\",\"163\",\"1\",\"0\",\"12\",\"11\",\"0\",\"0\",\"0\",\"0\",\"325\",\"0\",\"0\",\"0\",\"0\",\"0\",\"37\",\"0\",\"0\",\"0\",\"0\",\"0\",\"0\",\"0\",\"0\",\"0\",\"0\",\"0\",\"0\",\"0\",\"0\",\"0\",\"0\",\"0\",\"120\",\"0\",\"0\",\"0\",\"0\",\"0\",\"0\",\"0\",\"174\",\"0\",\"0\",\"0\",\"0\",\"0\",\"0\",\"0\",\"0\",\"0\",\"39\",\"0\",\"0\",\"0\",\"0\",\"0\"],\"DOE\":[\"9,125\",\"30,932\",\"40,522\",\"26,299\",\"10,187\",\"7,977\",\"19,793\",\"300\",\"12,518\",\"7,837\",\"12,282\",\"29,364\",\"65,226\",\"17,971\",\"33,909\",\"85,024\",\"11,553\",\"21,870\",\"195\",\"19,783\",\"19,105\",\"2,195\",\"11,158\",\"21,294\",\"18,611\",\"8,168\",\"10,182\",\"24,057\",\"18,429\",\"1,063\",\"41,287\",\"4,522\",\"7,256\",\"365\",\"0\",\"28,357\",\"13,557\",\"43,031\",\"9,085\",\"4,608\",\"100,039\",\"13,199\",\"0\",\"9,885\",\"28,326\",\"0\",\"535\",\"69,787\",\"24,947\",\"10,170\",\"6,160\",\"2,833\",\"18,945\",\"214\",\"11,379\",\"1,546\",\"21,888\",\"1,866\",\"7,718\",\"17,326\",\"6,984\",\"18\",\"29,032\",\"13,976\",\"756\",\"11,313\",\"6,758\",\"4,294\",\"2\",\"2399\",\"0\",\"9,013\",\"14,029\",\"8,730\",\"15,312\",\"0\",\"7,767\",\"5,245\",\"11,902\",\"1,415\",\"2,393\",\"364\",\"5,443\",\"4,760\",\"3,367\",\"8,666\",\"17,207\",\"8,400\",\"7,184\",\"1,324\",\"4,097\",\"7,407\",\"2,213\",\"0\",\"15,336\",\"9,058\",\"8,206\",\"3,045\",\"44,048\",\"2,283\",\"3,981\",\"9\",\"5,232\",\"1,553\",\"168\",\"4,769\",\"2,859\",\"8,424\",\"1,789\",\"1,383\",\"0\",\"1,616\",\"5,096\",\"11,646\",\"13,181\",\"5,820\",\"354\",\"7,818\",\"187\",\"2,420\",\"131\",\"417\",\"4,059\",\"0\",\"5,156\",\"14,034\",\"38\",\"7,358\",\"6,832\",\"7,304\",\"890\",\"2,214\",\"4,964\",\"1,363\",\"4,106\",\"4,335\",\"5,000\",\"965\",\"5,232\",\"0\",\"478\",\"1,210\",\"2,246\",\"7,427\",\"1,191\",\"6,814\",\"3,838\",\"407\",\"0\",\"0\",\"43\",\"0\",\"1,864\",\"114\",\"1,060\",\"2,515\",\"17,433\",\"1,304\",\"1,725\",\"3,767\",\"124\",\"0\",\"1,245\",\"1,945\",\"2,433\",\"16,851\",\"1,819\",\"1,410\",\"2,425\",\"1,987\",\"491\",\"0\",\"3,676\",\"1,043\",\"0\",\"70\",\"22\",\"208\",\"298\",\"1,285\",\"2,341\",\"210\",\"0\",\"1,517\",\"2,493\",\"1,821\",\"985\",\"0\",\"778\",\"1\",\"1,374\",\"575\",\"1,312\",\"0\",\"440\",\"1,457\",\"6,902\",\"58\",\"582\",\"132\",\"5,584\",\"1,102\",\"1,367\",\"0\",\"3,344\",\"5,363\",\"0\",\"1,476\",\"318\",\"0\",\"348\",\"471\",\"374\",\"460\",\"0\",\"6,925\",\"13\",\"0\",\"4,279\",\"200\",\"0\",\"25\",\"5,711\",\"1,745\",\"756\",\"0\",\"0\",\"293\",\"179\",\"2,526\",\"1,014\",\"451\",\"772\",\"105\",\"422\",\"7,975\",\"1,405\",\"0\",\"98\",\"0\",\"0\",\"59\",\"157\",\"0\",\"143\",\"1,497\",\"521\",\"223\",\"875\",\"0\",\"3,122\",\"0\",\"0\",\"1,508\",\"0\",\"476\",\"537\",\"214\",\"0\",\"0\",\"323\",\"130\",\"269\",\"23\",\"0\",\"0\",\"0\",\"1,014\",\"0\",\"1,046\",\"1,649\",\"72\",\"0\",\"780\",\"479\",\"269\",\"356\",\"0\",\"0\",\"45\",\"179\",\"12\",\"0\",\"124\",\"460\",\"309\",\"369\",\"0\",\"0\",\"0\",\"30\",\"39\",\"3,568\",\"0\",\"0\",\"51\",\"0\",\"67\",\"0\",\"1,114\",\"0\",\"0\",\"0\",\"137\",\"138\",\"298\",\"526\",\"266\",\"0\",\"92\",\"24\",\"0\",\"111\",\"16\",\"273\",\"524\",\"0\",\"0\",\"0\",\"0\",\"27\",\"0\",\"191\",\"0\",\"56\",\"0\",\"14\",\"20\",\"0\",\"152\",\"0\",\"195\",\"0\",\"1,909\",\"0\",\"27\",\"0\",\"0\",\"373\",\"0\",\"0\",\"0\",\"549\",\"8\",\"0\",\"0\",\"581\",\"0\",\"82\",\"179\",\"23\",\"0\",\"21\",\"0\",\"0\",\"273\",\"0\",\"0\",\"0\",\"14\",\"0\",\"0\",\"0\",\"0\",\"877\",\"180\",\"0\",\"87\",\"0\",\"0\",\"0\",\"0\",\"25\",\"0\",\"0\",\"0\",\"0\",\"0\",\"0\",\"60\",\"0\",\"0\",\"324\",\"0\",\"39\",\"0\",\"0\",\"0\",\"175\",\"0\",\"3\",\"22\",\"98\",\"276\",\"0\",\"90\",\"37\",\"0\",\"0\",\"0\",\"0\",\"0\",\"0\",\"0\",\"15\",\"69\",\"0\",\"0\",\"0\",\"0\",\"0\",\"311\",\"280\",\"5\",\"0\",\"0\",\"0\",\"68\",\"0\",\"0\",\"512\",\"0\",\"0\",\"63\",\"0\",\"0\",\"0\",\"0\",\"649\",\"79\",\"0\",\"0\",\"0\",\"765\",\"4\",\"0\",\"0\",\"0\",\"488\",\"0\",\"0\",\"0\",\"0\",\"15\",\"139\",\"0\",\"0\",\"0\",\"0\",\"26\",\"0\",\"269\",\"0\",\"12\",\"40\",\"494\",\"0\",\"293\",\"0\",\"0\",\"0\",\"314\",\"0\",\"0\",\"0\",\"0\",\"0\",\"0\",\"64\",\"0\",\"0\",\"0\",\"0\",\"0\",\"0\",\"626\",\"0\",\"0\",\"0\",\"0\",\"0\",\"0\",\"0\",\"0\",\"0\",\"19\",\"4\",\"0\",\"51\",\"0\",\"0\",\"0\",\"0\",\"0\",\"0\",\"0\",\"0\",\"0\",\"0\",\"0\",\"0\",\"77\",\"0\",\"0\",\"0\",\"70\",\"401\",\"0\",\"0\",\"27\",\"0\",\"0\",\"0\",\"161\",\"0\",\"0\",\"0\",\"0\",\"156\",\"0\",\"0\",\"0\",\"0\",\"0\",\"0\",\"0\",\"0\",\"0\",\"0\",\"0\",\"0\",\"82\",\"0\",\"0\",\"0\",\"0\",\"0\",\"41\",\"158\",\"0\",\"0\",\"0\",\"214\",\"68\",\"0\",\"0\",\"3\",\"0\",\"28\",\"0\",\"346\",\"19\",\"0\",\"0\",\"0\",\"0\",\"0\",\"0\",\"0\",\"0\",\"0\",\"0\",\"0\",\"0\",\"0\",\"0\",\"57\",\"0\",\"13\",\"0\",\"0\",\"0\",\"0\",\"0\",\"0\",\"0\",\"0\",\"26\",\"0\",\"0\",\"0\",\"0\",\"0\",\"0\",\"0\",\"0\",\"0\",\"0\",\"0\",\"0\",\"0\",\"0\",\"0\",\"0\",\"0\",\"0\",\"0\",\"0\",\"0\",\"0\",\"0\",\"0\",\"0\",\"0\",\"0\",\"0\",\"0\",\"0\",\"0\",\"0\",\"0\",\"0\",\"0\",\"0\",\"0\",\"0\",\"0\",\"0\",\"0\",\"0\",\"0\"],\"NSF\":[\"37,379\",\"113,679\",\"83,587\",\"83,761\",\"40,912\",\"39,362\",\"84,550\",\"4,900\",\"97,190\",\"24,918\",\"38,832\",\"70,832\",\"89,389\",\"54,074\",\"67,271\",\"97,033\",\"37,180\",\"63,344\",\"681\",\"73,547\",\"53,077\",\"2,892\",\"18,016\",\"48,927\",\"109,545\",\"42,954\",\"20,569\",\"79,795\",\"57,157\",\"12,978\",\"78,961\",\"31,908\",\"5,665\",\"4,043\",\"725\",\"75,232\",\"45,289\",\"127,024\",\"53,625\",\"13,619\",\"72,873\",\"44,700\",\"4,390\",\"50,276\",\"100,344\",\"3,074\",\"1,698\",\"15,613\",\"89,490\",\"54,999\",\"25,229\",\"13,032\",\"37,051\",\"5,214\",\"32,927\",\"10,920\",\"65,203\",\"13,771\",\"31,418\",\"58,610\",\"21,278\",\"1,320\",\"53,595\",\"37,153\",\"14,083\",\"73,066\",\"29,417\",\"20,348\",\"1,349\",\"25976\",\"1,040\",\"36,213\",\"57,197\",\"28,412\",\"46,681\",\"607\",\"15,972\",\"19,595\",\"27,402\",\"5,490\",\"12,483\",\"2,423\",\"13,692\",\"19,904\",\"16,784\",\"28,618\",\"17,893\",\"13,882\",\"51,255\",\"14,671\",\"12,174\",\"37,161\",\"993\",\"586\",\"26,546\",\"44,450\",\"26,118\",\"8,164\",\"34,075\",\"446\",\"20,328\",\"90\",\"38,020\",\"961\",\"663\",\"28,127\",\"15,220\",\"14,834\",\"20,923\",\"27,879\",\"732\",\"6,359\",\"11,720\",\"7,178\",\"26,711\",\"15,768\",\"4,640\",\"30,104\",\"10,821\",\"22,160\",\"1,776\",\"5,221\",\"4,282\",\"644\",\"16,220\",\"10,691\",\"4,455\",\"13,103\",\"23,498\",\"11,912\",\"6,155\",\"13,838\",\"13,211\",\"3,396\",\"16,075\",\"16,557\",\"8,146\",\"14,392\",\"14,639\",\"389\",\"10,264\",\"2,075\",\"8,664\",\"8,729\",\"6,058\",\"19,697\",\"11,802\",\"8,524\",\"69\",\"356\",\"1,562\",\"147\",\"6,462\",\"197\",\"8,392\",\"9,878\",\"3,745\",\"10,551\",\"11,053\",\"6,814\",\"7,779\",\"18\",\"8,394\",\"2,439\",\"14,424\",\"9,292\",\"7,746\",\"10,334\",\"12,820\",\"7,809\",\"7,076\",\"1,579\",\"6,538\",\"7,079\",\"314\",\"1,842\",\"6,115\",\"420\",\"2,584\",\"9,971\",\"7,576\",\"7,170\",\"8\",\"10,025\",\"7,130\",\"5,667\",\"5,941\",\"157\",\"6,455\",\"1,016\",\"8,187\",\"10,130\",\"7,804\",\"211\",\"3,767\",\"10,833\",\"4,393\",\"3,191\",\"6,687\",\"1,466\",\"4,482\",\"6,048\",\"4,077\",\"0\",\"7,798\",\"1,679\",\"0\",\"7,542\",\"2,649\",\"5,048\",\"6,079\",\"6,417\",\"1,809\",\"3,917\",\"142\",\"1,582\",\"48\",\"270\",\"6,503\",\"3,895\",\"1,572\",\"3,110\",\"3,241\",\"6,729\",\"2,600\",\"2,640\",\"0\",\"1,328\",\"6,931\",\"3,692\",\"2,956\",\"5,397\",\"2,017\",\"3,372\",\"950\",\"1,956\",\"3,872\",\"1,103\",\"4,785\",\"0\",\"19\",\"4,573\",\"1,267\",\"1,426\",\"2,878\",\"7,061\",\"1,611\",\"4,119\",\"5,419\",\"0\",\"3,963\",\"2,467\",\"1,583\",\"2,423\",\"829\",\"1,188\",\"3,608\",\"284\",\"0\",\"0\",\"857\",\"820\",\"2,715\",\"1,016\",\"5,663\",\"419\",\"1\",\"2,895\",\"2,648\",\"4,026\",\"2,703\",\"169\",\"1,422\",\"3,628\",\"2,435\",\"1,150\",\"2,983\",\"220\",\"237\",\"1,396\",\"2,181\",\"1,674\",\"253\",\"973\",\"1,050\",\"5,146\",\"997\",\"0\",\"120\",\"2,350\",\"358\",\"131\",\"1,798\",\"768\",\"0\",\"1,833\",\"1,411\",\"2,095\",\"137\",\"2,216\",\"166\",\"2,248\",\"0\",\"2,962\",\"1,285\",\"2,142\",\"1,511\",\"1,032\",\"1,217\",\"1,275\",\"722\",\"507\",\"1,714\",\"540\",\"1,583\",\"1,481\",\"1,310\",\"1,261\",\"523\",\"1,213\",\"2,572\",\"73\",\"796\",\"711\",\"1,966\",\"638\",\"1,861\",\"3,078\",\"3,526\",\"512\",\"2,035\",\"493\",\"0\",\"647\",\"534\",\"2,470\",\"602\",\"229\",\"2,253\",\"1,047\",\"1,400\",\"86\",\"301\",\"1,803\",\"0\",\"0\",\"395\",\"269\",\"2,103\",\"633\",\"1,750\",\"1,394\",\"3,294\",\"1,315\",\"581\",\"847\",\"1,444\",\"829\",\"1,194\",\"2,108\",\"72\",\"82\",\"1,583\",\"818\",\"1,755\",\"1,493\",\"0\",\"1,553\",\"514\",\"372\",\"511\",\"1,548\",\"1,391\",\"54\",\"998\",\"0\",\"1,260\",\"1,113\",\"857\",\"989\",\"282\",\"397\",\"92\",\"1,842\",\"2,153\",\"562\",\"50\",\"1,483\",\"651\",\"0\",\"711\",\"1,413\",\"764\",\"835\",\"373\",\"1,679\",\"2,029\",\"936\",\"17\",\"99\",\"1,429\",\"0\",\"13\",\"0\",\"867\",\"1,232\",\"0\",\"433\",\"178\",\"509\",\"835\",\"640\",\"929\",\"454\",\"1,047\",\"286\",\"63\",\"760\",\"694\",\"560\",\"442\",\"417\",\"1,167\",\"445\",\"1,472\",\"1,474\",\"963\",\"457\",\"677\",\"1,146\",\"838\",\"1,085\",\"254\",\"710\",\"1,382\",\"954\",\"1,132\",\"0\",\"452\",\"551\",\"734\",\"1,327\",\"0\",\"257\",\"419\",\"386\",\"1,219\",\"267\",\"1,174\",\"538\",\"0\",\"762\",\"812\",\"1,181\",\"952\",\"63\",\"380\",\"477\",\"26\",\"490\",\"586\",\"804\",\"484\",\"380\",\"1,031\",\"940\",\"0\",\"0\",\"467\",\"343\",\"394\",\"109\",\"287\",\"387\",\"264\",\"144\",\"52\",\"391\",\"417\",\"172\",\"606\",\"309\",\"88\",\"200\",\"97\",\"597\",\"745\",\"762\",\"204\",\"439\",\"0\",\"152\",\"301\",\"575\",\"297\",\"185\",\"340\",\"718\",\"888\",\"22\",\"779\",\"155\",\"468\",\"189\",\"227\",\"511\",\"346\",\"442\",\"81\",\"161\",\"0\",\"566\",\"100\",\"479\",\"563\",\"50\",\"169\",\"94\",\"493\",\"163\",\"652\",\"699\",\"58\",\"700\",\"378\",\"215\",\"265\",\"0\",\"488\",\"660\",\"101\",\"0\",\"184\",\"85\",\"438\",\"77\",\"395\",\"375\",\"365\",\"63\",\"624\",\"277\",\"229\",\"382\",\"0\",\"20\",\"458\",\"46\",\"309\",\"375\",\"67\",\"55\",\"353\",\"0\",\"68\",\"0\",\"0\",\"14\",\"29\",\"0\",\"0\",\"169\",\"386\",\"8\",\"158\",\"134\",\"120\",\"91\",\"292\",\"342\",\"344\",\"353\",\"362\",\"0\",\"129\",\"0\",\"0\",\"206\",\"18\",\"294\",\"339\",\"0\",\"139\",\"24\",\"8\",\"0\",\"29\",\"113\",\"96\",\"0\",\"274\",\"22\",\"0\",\"40\",\"17\",\"147\",\"200\",\"36\",\"15\",\"0\",\"0\",\"182\",\"0\",\"137\",\"24\",\"0\",\"0\",\"0\",\"165\",\"159\",\"0\",\"19\",\"41\",\"12\",\"39\",\"0\",\"10\",\"59\",\"38\",\"0\",\"0\"],\"institution\":[\"Johns Hopkins U.b\",\"U. Washington, Seattle\",\"U. Michigan, Ann Arbor\",\"Stanford U.\",\"U. Pennsylvania\",\"U. North Carolina, Chapel Hill\",\"U. California, San Diego\",\"U. California, San Francisco\",\"Columbia U. in the City of New York\",\"U. Pittsburgh, Pittsburgh\",\"Duke U.\",\"Georgia Institute of Technology\",\"U. Wisconsin-Madison\",\"Harvard U.\",\"Pennsylvania State U., University Park and Hershey Medical Center\",\"Massachusetts Institute of Technology\",\"Yale U.\",\"U. California, Los Angeles\",\"California State U., Los Angeles\",\"U. Minnesota, Twin Cities\",\"Ohio State U.\",\"Ohio U.\",\"Washington U., Saint Louis\",\"Northwestern U.\",\"Cornell U.\",\"U. Southern California\",\"Vanderbilt U.\",\"U. Colorado Boulder\",\"U. Maryland, College Park\",\"Emory U.\",\"U. Texas, Austin\",\"New York U.\",\"U. Alabama, Birmingham\",\"U. Alabama, Huntsville\",\"Icahn School of Medicine at Mt. Sinai\",\"U. California, Berkeley\",\"U. California, Davis\",\"U. Illinois, Urbana-Champaign\",\"Rutgers, State U. New Jersey, New Brunswick\",\"Case Western Reserve U.\",\"Michigan State U.\",\"U. Florida\",\"U. Colorado Denver and Anschutz Medical Campus\",\"U. Chicago\",\"Texas A&M U., College Station and Health Science Center\",\"Baylor C. of Medicine\",\"Baylor U.\",\"U. Rochester\",\"California Institute of Technology\",\"U. Arizona\",\"Boston U.\",\"U. Iowa\",\"U. Utah\",\"Oregon Health and Science U.\",\"Colorado State U., Fort Collins\",\"U. Cincinnati\",\"Purdue U., West Lafayette\",\"U. South Florida, Tampa\",\"Indiana U., Bloomington\",\"Arizona State U.\",\"U. Virginia, Charlottesville\",\"U. Maryland, Baltimore\",\"North Carolina State U.\",\"Virginia Polytechnic Institute and State U.\",\"U. Miami\",\"Carnegie Mellon U.\",\"U. Hawaii, Manoa\",\"U. Illinois, Chicago\",\"U. Texas Southwestern Medical Center\",\"SUNY, U. Buffalo\",\"U. Massachusetts, Medical School\",\"U. California, Irvine\",\"Princeton U.\",\"U. New Mexico\",\"Oregon State U.\",\"U. Texas M. D. Anderson Cancer Center\",\"U. Kentucky\",\"U. Connecticut\",\"U. Georgia\",\"Virginia Commonwealth U.\",\"George Washington U.\",\"Wake Forest U.\",\"Temple U.\",\"U. Kansas\",\"Dartmouth C.\",\"Brown U.\",\"Washington State U.\",\"U. Oklahoma, Norman and Health Science Center\",\"Florida State U.\",\"Tufts U.\",\"Utah State U.\",\"Iowa State U.\",\"Medical U. South Carolina\",\"U. Texas Health Science Center, Houston\",\"SUNY, Stony Brook U.\",\"U. California, Santa Barbara\",\"U. Delaware\",\"Wayne State U.\",\"U. Tennessee, Knoxville\",\"U. Tennessee, Knoxville, Institute of Agriculture\",\"U. Missouri, Columbia\",\"Medical C. Wisconsin\",\"U. Massachusetts, Amherst\",\"U. Dayton\",\"U. Texas Medical Branch\",\"U. Nebraska, Lincoln\",\"U. California, Santa Cruz\",\"U. South Carolina, Columbia\",\"U. New Hampshire\",\"U. Alaska, Fairbanks\",\"U. Texas Health Science Center, San Antonio\",\"Tulane U.\",\"U. Central Florida\",\"Mississippi State U.\",\"U. Notre Dame\",\"Louisiana State U., Baton Rouge\",\"Georgetown U.\",\"Rice U.\",\"U. Vermont\",\"Northeastern U.\",\"Rockefeller U.\",\"SUNY, U. Albany\",\"SUNY, Binghamton U.\",\"U. Nebraska, Medical Center\",\"Florida International U.\",\"West Virginia U.\",\"U. Louisville\",\"Kansas State U.\",\"U. California, Riverside\",\"Montana State U., Bozeman\",\"New Jersey Institute of Technology\",\"Drexel U.\",\"U. Oregon\",\"U. Mississippi\",\"U. Wyoming\",\"U. Houston\",\"New Mexico State U.\",\"U. Rhode Island\",\"Clemson U.\",\"Thomas Jefferson U.\",\"George Mason U.\",\"Naval Postgraduate School\",\"Auburn U., Auburn\",\"U. Nevada, Reno\",\"Georgia State U.\",\"Rensselaer Polytechnic Institute\",\"U. Idaho\",\"U. Maryland, Baltimore County\",\"Rush U.\",\"Augusta U.\",\"Cleveland State U.\",\"U. Arkansas for Medical Sciences\",\"Brandeis U.\",\"U.S. Air Force Academy\",\"San Diego State U.\",\"Oklahoma State U., Stillwater\",\"U. North Dakota\",\"U. Texas, El Paso\",\"U. Arkansas, Fayetteville\",\"Old Dominion U.\",\"U. Montana, Missoula\",\"U. Tennessee, Health Science Center\",\"CUNY, City C.\",\"Florida A&M U.\",\"Syracuse U.\",\"Colorado School of Mines\",\"North Dakota State U.\",\"U. Texas, Dallas\",\"U. Maine\",\"C. of William and Mary and Virginia Institute of Marine Science\",\"Howard U.\",\"U. Puerto Rico, Medical Sciences Campus\",\"Texas Tech U.\",\"Portland State U.\",\"Louisiana State U., Health Sciences Center ? New Orleans\",\"San Jose State U.\",\"U. Massachusetts, Boston\",\"Yeshiva U.\",\"Wright State U.\",\"Michigan Technological U.\",\"South Dakota State U.\",\"Stevens Institute of Technology\",\"Morehouse School of Medicine\",\"Brigham Young U., Provo\",\"U. Alabama, Tuscaloosa\",\"U. Toledo\",\"U. Massachusetts, Lowell\",\"U. North Texas, Health Science Center\",\"Boston C.\",\"Saint Louis U.\",\"U. Texas, Arlington\",\"Rochester Institute of Technology\",\"Worcester Polytechnic Institute\",\"SUNY, Downstate Medical Center\",\"U. Texas, San Antonio\",\"U. Wisconsin-Milwaukee\",\"U. Nevada, Las Vegas\",\"U. Southern Mississippi\",\"U. Akron\",\"Loyola U., Chicago\",\"Illinois Institute of Technology\",\"Northern Arizona U.\",\"Alabama A&M U.\",\"Eastern Virginia Medical School\",\"Lehigh U.\",\"SUNY, Polytechnic Institute\",\"Mercer U.\",\"North Carolina Agricultural and Technical State U.\",\"Texas State U.\",\"U. of the Virgin Islands\",\"Jackson State U.\",\"U. North Carolina, Charlotte\",\"CUNY, Hunter C.\",\"Indiana U.-Purdue U., Indianapolis\",\"Indiana U.-Purdue U., Fort Wayne\",\"Catholic U. of America\",\"Air Force Institute of Technology\",\"SUNY, Upstate Medical U.\",\"Missouri U. of Science and Technology\",\"U. Memphis\",\"U. North Carolina, Greensboro\",\"U. South Alabama\",\"New Mexico Institute of Mining and Technology\",\"Boise State U.\",\"U. Louisiana, Lafayette\",\"U. Texas Rio Grande Valley\",\"Loma Linda U.\",\"Morehouse C.\",\"U. Puerto Rico, Rio Piedras\",\"Southern Methodist U.\",\"Florida Atlantic U.\",\"Delaware State U.\",\"Southern Illinois U., Carbondale\",\"U. Puerto Rico, Mayaguez\",\"Morgan State U.\",\"CUNY, Queens C.\",\"Hampton U.\",\"Embry-Riddle Aeronautical U.\",\"Rutgers, State U. New Jersey, Newark\",\"Meharry Medical C.\",\"U.S. Military Academy\",\"California State U., Northridge\",\"U. Missouri, Kansas City\",\"East Carolina U.\",\"San Francisco State U.\",\"U. North Texas, Denton\",\"Tennessee State U.\",\"Western Michigan U. and Homer Stryker M.D. School of Medicine\",\"U. California, Merced\",\"Charles R. Drew U. of Medicine and Science\",\"Idaho State U.\",\"U. Alaska, Anchorage\",\"Columbia U., Teachers C.\",\"California Polytechnic State U., San Luis Obispo\",\"Fayetteville State U.\",\"California State U., Long Beach\",\"U. Denver\",\"U.S. Naval Academy\",\"New York Medical C.\",\"Albany Medical C.\",\"Creighton U.\",\"Xavier U. Louisiana\",\"North Carolina Central U.\",\"Wichita State U.\",\"Tuskegee U.\",\"Texas Tech U., Health Sciences Center\",\"Texas Tech U., Health Sciences Center, El Paso\",\"South Dakota School of Mines and Technology\",\"Marquette U.\",\"Kent State U.\",\"Northern Illinois U.\",\"U. West Florida\",\"American U.\",\"Fisk U.\",\"Florida Institute of Technology\",\"U. Hawaii, Hilo\",\"Miami U.\",\"Northeast Ohio Medical U.\",\"Langston U.\",\"Marshall U.\",\"U. South Dakota\",\"Texas A&M U.-Corpus Christi\",\"Rosalind Franklin U. of Medicine and Science\",\"Claremont Graduate U.\",\"SUNY, C. of Environmental Science and Forestry\",\"U. Minnesota, Duluth\",\"Prairie View A&M U.\",\"U. Maryland, Eastern Shore\",\"Dillard U.\",\"St. Edward's U.\",\"Texas A&M U.-Kingsville\",\"Nova Southeastern U.\",\"Norfolk State U.\",\"U. Nebraska, Omaha\",\"Ponce Health Sciences U.\",\"U. New Orleans\",\"U. Guam\",\"U. Massachusetts, Dartmouth\",\"Louisiana State U., Health Sciences Center - Shreveport\",\"U. Tulsa\",\"Alcorn State U.\",\"California State U., San Bernardino\",\"U. Central del Caribe\",\"Bowling Green State U.\",\"Oakland U.\",\"Clarkson U.\",\"Clark Atlanta U.\",\"CUNY, Brooklyn C.\",\"Fordham U.\",\"U. North Carolina, Wilmington\",\"Duquesne U.\",\"East Tennessee State U.\",\"Illinois State U.\",\"California State U., Sacramento\",\"Louisiana Tech U.\",\"Central Michigan U.\",\"U. New England\",\"California State U., San Marcos\",\"Rowan U.\",\"Virginia State U.\",\"Wellesley C.\",\"Kentucky State U.\",\"U. Missouri, Saint Louis\",\"Lincoln U., Jefferson City\",\"U. Arkansas, Little Rock\",\"Fort Valley State U.\",\"Arkansas State U., Jonesboro\",\"Western Washington U.\",\"U. Metropolitana\",\"CUNY, John Jay C. of Criminal Justice\",\"DePaul U.\",\"South Carolina State U.\",\"Tarleton State U.\",\"Humboldt State U.\",\"Florida Gulf Coast U.\",\"Villanova U.\",\"U. Arkansas, Pine Bluff\",\"West Virginia State U.\",\"Tennessee Technological U.\",\"Western Kentucky U.\",\"U. Colorado Colorado Springs\",\"Rhode Island C.\",\"Montana Tech of U. Montana\",\"California State U., Fullerton\",\"U. Baltimore\",\"U. Texas Health Science Center, Tyler\",\"Purdue U., Calumet\",\"California State U., Monterey Bay\",\"CUNY, Lehman C.\",\"Texas Christian U.\",\"California State U., Fresno\",\"Middle Tennessee State U.\",\"Carleton C.\",\"Wesleyan U.\",\"Southern Illinois U., Edwardsville\",\"Chapman U.\",\"CUNY, Graduate Center\",\"Texas Southern U.\",\"Ball State U.\",\"Barnard C.\",\"Jacksonville State U.\",\"U. South Florida, Saint Petersburg\",\"U. Washington, Bothell\",\"Mount Holyoke C.\",\"Pace U.\",\"Southern U. and A&M C., Baton Rouge\",\"Southern U. and A&M C., Agricultural Research and Extension Center\",\"Montclair State U.\",\"Georgia Southern U.\",\"U. Washington, Tacoma\",\"Missouri State U.\",\"Rutgers, State U. New Jersey, Camden\",\"Smith C.\",\"U. Detroit Mercy\",\"Bryn Mawr C.\",\"SUNY, C. of Optometry\",\"Tougaloo C.\",\"Bowdoin C.\",\"U. of the District of Columbia\",\"Pennsylvania State U., Behrend\",\"New School\",\"Salisbury U.\",\"Western U. of Health Sciences\",\"Alabama State U.\",\"Harvey Mudd C.\",\"U. North Carolina, Asheville\",\"U. Southern Maine\",\"U. Northern Iowa\",\"Savannah State U.\",\"MGH Institute of Health Professions\",\"California State U., Dominguez Hills\",\"James Madison U.\",\"California State Polytechnic U., Pomona\",\"U. Michigan, Dearborn\",\"U. New Haven\",\"U. San Diego\",\"Hofstra U.\",\"Gallaudet U.\",\"Hawaii Pacific U.\",\"Wiley C.\",\"Black Hills State U.\",\"A. T. Still U.\",\"U. Louisiana, Monroe\",\"National U.\",\"Clark U.\",\"U. of the Pacific\",\"Seton Hall U.\",\"U. Northern Colorado\",\"U. Texas, Tyler\",\"Bowie State U.\",\"Kennesaw State U.\",\"U. Richmond\",\"Appalachian State U.\",\"Sam Houston State U.\",\"Elizabeth City State U.\",\"Stephen F. Austin State U.\",\"Morehead State U.\",\"Claflin U.\",\"Middlebury C.\",\"Roger Williams U.\",\"West Texas A&M U.\",\"Erikson Institute\",\"CUNY, C. Staten Island\",\"Reed C.\",\"California State U., Bakersfield\",\"Union C., Schenectady\",\"Santa Clara U.\",\"Eastern Michigan U.\",\"Benedict C.\",\"Bucknell U.\",\"Towson U.\",\"Williams C.\",\"New York Institute of Technology\",\"Valparaiso U.\",\"Dakota State U.\",\"Central Washington U.\",\"Pomona C.\",\"Salus U.\",\"Alfred U.\",\"Central State U.\",\"U. Alaska, Southeast\",\"Vassar C.\",\"Palmer C. of Chiropractic, Davenport\",\"Grand Valley State U.\",\"Swarthmore C.\",\"Pacific U.\",\"Toyota Technological Institute, Chicago\",\"U. Central Oklahoma\",\"Saint Michael's C.\",\"U. North Florida\",\"Winston-Salem State U.\",\"CUNY, Baruch C.\",\"Southern Connecticut State U.\",\"Siena C.\",\"Spelman C.\",\"Eastern Washington U.\",\"Johnson C. Smith U.\",\"Kettering U.\",\"Oregon Institute of Technology\",\"Minnesota State U., Mankato\",\"Occidental C.\",\"Hope C.\",\"U. Wisconsin-La Crosse\",\"Pepperdine U.\",\"Colgate U.\",\"Amherst C.\",\"Maine Maritime Academy\",\"Touro U., Vallejo\",\"Indiana State U.\",\"Indiana U., South Bend\",\"Winthrop U.\",\"U. Hartford\",\"U. Houston-Downtown\",\"Milwaukee School of Engineering\",\"Bates C.\",\"U. South Carolina, Aiken\",\"U. of the Sciences Philadelphia\",\"Salish Kootenai C.\",\"U. Central Arkansas\",\"Albany State U.\",\"Colby C.\",\"Northern Kentucky U.\",\"U. Massachusetts, central office\",\"Drake U.\",\"U. Puerto Rico, Cayey\",\"U. Tennessee, Chattanooga\",\"Willamette U.\",\"New Mexico Highlands U.\",\"Youngstown State U.\",\"Furman U.\",\"Midwestern U.\",\"Coastal Carolina U.\",\"Eastern Kentucky U.\",\"Lafayette C.\",\"Providence C.\",\"Southeastern Louisiana U.\",\"Grambling State U.\",\"Trinity U.\",\"Haverford C.\",\"Bradley U.\",\"Oberlin C.\",\"U. Wisconsin-Stevens Point\",\"Franklin and Marshall C.\",\"Keck Graduate Institute\",\"St. John's U., Manhattan\",\"California State U., Chico\",\"SUNY, Geneseo\",\"Plymouth State U.\",\"Texas A&M International U.\",\"U. Wisconsin-Green Bay\",\"Chicago State U.\",\"Trinity C., Hartford\",\"U. Nebraska, Kearney\",\"Texas A&M U.-Commerce\",\"Mills C.\",\"Western Carolina U.\",\"SUNY, Buffalo State\",\"SUNY, C. Brockport\",\"Christopher Newport U.\",\"Long Island U.\",\"Seattle Pacific U.\",\"St. Olaf C.\",\"CUNY, system office\",\"Seattle U.\",\"Connecticut C.\",\"Davidson C.\",\"Calvin C.\",\"American Samoa Community C.\",\"Franklin W. Olin C. of Engineering\",\"Macalester C.\",\"U. Houston-Clear Lake\",\"Oklahoma State U., Center for Health Sciences\",\"Skidmore C.\",\"U. Illinois, Springfield\",\"Loyola Marymount U.\",\"Oakwood U.\",\"Alaska Pacific U.\",\"Augsburg C.\",\"U. Wisconsin-Eau Claire\",\"Lawrence Technological U.\",\"Claremont McKenna C.\",\"St. Cloud State U.\",\"Lewis and Clark C.\",\"Sonoma State U.\",\"New England C. of Optometry\",\"Mercyhurst U.\",\"Lamar U.\",\"Azusa Pacific U.\",\"Western New England U.\",\"Texas Woman's U.\",\"SUNY, Farmingdale State C.\",\"Biola U.\",\"Murray State U.\",\"U. del Este\",\"William Paterson U.\",\"SUNY, C. Plattsburgh\",\"Purdue U., North Central\",\"Shaw U.\",\"U. Texas, Permian Basin\",\"Hult International Business School\",\"Northwestern State U. Louisiana\",\"California State U., East Bay\",\"Saint Joseph's U.\",\"Norwich U.\",\"West Chester U. Pennsylvania\",\"Hamilton C.\",\"U. del Turabo\",\"Eastern New Mexico U., Portales\",\"Fairfield U.\",\"U. Minnesota, Morris\",\"Elon U.\",\"Gonzaga U.\",\"Dickinson C.\",\"Commonwealth Medical C.\",\"Des Moines U.\",\"Albany C. of Pharmacy and Health Sciences\",\"Marshall B. Ketchum U.\",\"Indiana U. Pennsylvania\",\"Emerson C.\",\"Colorado C.\",\"Allegheny C.\",\"U. Western States\",\"Grinnell C.\",\"Austin Peay State U.\",\"Kean U.\",\"U. California, Office of the President\",\"Heidelberg U.\",\"Northern Michigan U.\",\"U. San Francisco\",\"Wheeling Jesuit U.\",\"Rhode Island School of Design\",\"Lake Superior State U.\",\"Sul Ross State U.\",\"Pennsylvania State U., Harrisburg\",\"Pittsburg State U.\",\"Suffolk U.\",\"California State U., Channel Islands\",\"Saginaw Valley State U.\",\"California State U., Stanislaus\",\"Stockton U.\",\"Kansas City U. of Medicine and Biosciences\",\"U. of St. Thomas (MN)\",\"Nicholls State U.\",\"U. Tampa\",\"Rider U.\",\"U. North Carolina, general administration\",\"Monmouth U.\",\"Niagara U.\",\"Earlham C.\",\"St. Bonaventure U.\",\"Philadelphia C. of Osteopathic Medicine\",\"Central Connecticut State U.\",\"McNeese State U.\",\"La Sierra U.\",\"La Salle U.\",\"Edward Via C. of Osteopathic Medicine\",\"California Maritime Academy\",\"Sewanee: U. of the South\",\"C. of Saint Benedict\",\"U. South Florida, Sarasota-Manatee\",\"Eastern Connecticut State U.\"],\"lat\":[39.328977,47.656213,42.275921000000004,37.429532,39.950928999999995,35.911769,32.876598,37.762736,40.808285999999995,40.444502,36.001135,33.772420000000004,43.073858,42.374471,40.800732,42.360095,41.311158,34.066927,34.066927,44.977886,39.326798,39.326798,38.647929,42.050356,42.4472,34.021281,36.14659,40.008781,38.988178000000005,33.790183,30.28609,40.729452,33.505697,33.505697,40.789801000000004,37.871918,38.539895,40.108864000000004,40.498769,41.500811999999996,42.73212,29.646290000000004,39.745149,41.78917,29.304762,31.545956,31.545956,43.126397,34.139275,32.232671999999994,42.349581,41.661935,40.762484,45.498771999999995,40.574805,39.131159000000004,40.428206,28.061458000000002,39.166383,33.45343,38.035665,39.29173,35.785111,37.229012,25.72126,40.444615999999996,21.298598000000002,41.872651,32.812307000000004,43.000941999999995,42.277589,33.648434,40.348732,35.083868,44.56395,29.705395000000003,38.038911,41.809098,33.956262,37.547631,38.89865,36.133609,39.980942999999996,38.958549,43.704115,41.82617,46.730447999999996,35.208152,28.031507,42.408465,41.740747999999996,42.026212,32.786017,29.702872999999997,40.91476,34.416297,39.679577,42.35861,35.952082,35.952082,38.941015,43.777411,42.385999,39.739546999999995,29.311333,40.817598,36.995584,33.996788,43.134235,64.85755999999999,29.504716,29.939696,28.601059999999997,33.454852,41.703058,30.414986,38.908809000000005,29.717896999999997,44.479262,42.339991999999995,40.762927000000005,42.686917,42.686917,41.256312,25.757111,39.634371,38.215752,39.188648,33.97588,45.666726000000004,40.741997,39.954855,44.045146,34.365528999999995,41.311772999999995,29.720392999999998,34.728683000000004,41.712817,34.679381,39.948274,38.83088,36.597159000000005,32.599378,39.543642,33.7527,42.728983,46.726894,39.256686,41.874911,33.47077,41.502918,34.749047999999995,42.364946999999994,39.010957,32.77525,36.123084999999996,47.921654,31.771696999999996,35.379954999999995,36.886418,46.859312,35.140634000000006,40.819794,30.428503999999997,43.040176,39.75079,46.893127,32.984673,44.899257,37.269489,38.920739000000005,18.396548000000003,33.583448,45.511229,29.957271999999996,37.336569,42.312881,40.8508,39.780634,47.1183,44.317485,40.744776,33.742888,40.250851000000004,33.2144,41.660571999999995,42.65372,32.749818,42.337688,38.636516,32.728437,43.084188,42.275067,40.655283000000004,29.582418,43.076848,36.106994,31.32661,41.078551000000004,41.999161,41.8313,35.188449,34.783367999999996,36.861232,40.607158,43.13528,32.831787,36.076737,29.889202,18.344193,32.296781,35.306022,40.768669,41.115418,41.115418,38.935796,39.780663,43.042951,37.953426,35.118878,36.067503,30.696033,34.066035,43.604403000000005,30.215283000000003,26.306628999999997,34.051241,33.74793,18.402826,32.845254,26.372421000000003,39.187173,37.714193,18.211142000000002,39.344235,40.735182,37.019944,29.18927,40.741303,36.165458,41.390479,34.236709999999995,39.035365999999996,35.607186,37.721345,33.211178000000004,36.16899,42.282589,37.366237,33.925658,42.864108,61.190163,40.810311,35.299513,35.073640999999995,33.782818,39.678005,38.980507,41.085031,42.653178000000004,41.265325,29.964161999999998,35.974237,37.716484,32.4309,33.593227,33.593227,44.075439,43.03903,41.146653,41.933869,30.549076,38.937802000000005,36.16912,28.064503000000002,19.701854,39.523776,41.102919,35.943982,38.422482,42.784558000000004,33.618269,42.300069,34.103778000000005,43.034765,46.817126,30.092425,38.207386,29.996586999999998,30.229844,27.524852000000003,26.079337,36.848262,41.257746000000004,17.993242000000002,30.028539000000002,13.433047,41.628861,32.481019,36.151887,31.877215999999997,34.182987,18.366170999999998,41.375513,42.674572999999995,44.662715999999996,33.747628000000006,40.631912,40.859353999999996,34.225223,40.437496,36.301643,40.509403000000006,38.55745,32.528296999999995,43.591203,43.458172,33.130569,39.709768,37.236453000000004,42.291554,38.201056,38.711296999999995,38.564409000000005,34.726644,32.538163,35.842388,48.737235999999996,18.387183,40.770351,41.877618,33.497439,32.214988,40.8741,26.464261999999998,40.039388,34.244031,38.380541,36.174659000000005,36.985718,38.892734999999995,41.842415,46.012164,33.883627000000004,39.305834000000004,32.42864,41.584742,36.653724,40.873928,32.709568,36.814477000000004,35.848005,44.462303999999996,41.556779999999996,38.793949,33.793678,40.748503,29.722468,40.203431,40.809137,33.822938,27.762618,47.760718,42.257588,40.711014,30.524558000000003,30.524558000000003,40.859233,32.428808000000004,47.244594,37.197983,39.948628,42.318111,42.417168,40.028541,40.754465,32.403014,43.907134,38.943819,42.119433,40.735275,38.345447,34.058091999999995,32.364317,34.106137,35.616618,43.662637,42.514922999999996,32.024781,42.375018,33.86524,38.436310999999996,34.054272999999995,42.317287,41.291314,32.77142,40.715959000000005,38.907371000000005,21.310306,32.537646,44.494889,40.193647999999996,32.527747999999995,32.909469,42.251064,37.981424,40.742859,40.410855,32.314724,39.018184999999995,34.038807,37.577625,36.214844,30.714738,36.277978000000004,31.621056,38.186768,33.498444,44.009116999999996,41.650214,34.981996,41.890279,40.601831,45.480376,35.350004999999996,42.817578000000005,37.352706,42.245996000000005,34.011285,40.954316999999996,39.393622,42.712725,40.812447,41.462239000000004,44.013014,47.002687,34.098298,40.085815999999994,42.254476000000004,39.716465,58.384845999999996,41.685105,41.529021,42.965208000000004,39.905159000000005,45.521394,41.7844,35.658239,44.494558000000005,30.270916999999997,36.089197,40.740238,41.331852000000005,42.717602,33.745279,47.490666999999995,35.243384000000006,43.013112,42.257152000000005,44.146712,34.126224,42.788052,43.815295,34.037786,42.8188,42.372459,44.389654,33.808683,39.46873,39.46873,34.941515,41.796485,29.763831,43.045364,44.105299,33.572917,39.946552000000004,47.598592,35.077945,31.56928,44.564211,39.029714,42.35849,41.601290000000006,18.38959,35.048246999999996,44.935743,35.596233000000005,41.105583,34.924676,33.663216999999996,33.794995,37.740396000000004,40.69956,41.842742,30.514652,32.522702,29.46286,40.007452,40.697604999999996,41.294740000000004,44.529582,40.048045,34.093329,40.722522999999995,39.729712,42.796864,43.757386,27.573503999999996,44.532298,41.718813,41.746746,40.701287,33.243745000000004,37.782639,35.308979,43.211926,43.211926,37.062495,40.820345,47.649338,44.462884,40.750845,47.610138,41.379833000000005,35.500006,42.929916,-14.322636,42.292842,44.936709,29.582523,35.479279999999996,43.097035,39.729862,33.97085,34.756344,61.191235,44.965635999999996,44.798431,42.474072,34.102323,45.552417999999996,38.952408,38.341023,42.351656,42.103991,30.042738,34.130865,42.115837,33.227002,40.754224,33.904823,36.612419,18.414804999999998,40.946256,44.69293,41.583788,35.771181,31.889509000000004,42.369968,32.586037,37.657070000000004,39.994442,44.139402000000004,39.953398,43.050245000000004,18.239647,34.175592,41.160732,45.589828999999995,36.104149,47.668144,40.202796,41.413415,41.583325,42.652559000000004,33.889819,40.615589,42.352202,38.848859999999995,41.648068,45.543172,41.747048,36.533319,40.679429,37.802222,41.114337,46.558037,37.775564,40.070873,41.825935,46.491735999999996,30.363139,40.203765999999995,37.3913,42.358944,34.162949,43.511759999999995,37.52577,39.492036,39.107553,44.941662,29.794486,27.947225,40.278796,36.07482,40.280066,43.137279,39.822278000000004,42.080191,40.006308000000004,41.690258,30.180761999999998,33.910703999999996,40.037979,37.199666,38.069061,35.20443,45.561792,27.391765999999997,41.721672999999996],\"lon\":[-76.621595,-122.313115,-83.742769,-122.16443400000001,-75.19391,-79.050969,-117.237793,-122.458049,-73.961885,-79.95469200000001,-78.937624,-84.394832,-89.40535600000001,-71.118313,-77.861644,-71.092115,-72.926688,-118.16896499999999,-118.16896499999999,-93.235352,-82.100985,-82.100985,-90.310604,-87.679858,-76.48308399999999,-118.28416899999999,-86.80336899999999,-105.270823,-76.944721,-84.325512,-97.73929100000001,-73.997264,-86.799345,-86.799345,-73.953445,-122.26046299999999,-121.751958,-88.23030899999999,-74.446251,-81.605769,-84.476111,-82.347911,-104.837722,-87.601196,-98.52417,-97.119359,-97.119359,-77.631202,-118.12574,-110.95081499999999,-71.09984,-91.536425,-111.84604399999999,-122.68609599999999,-105.08073200000001,-84.51428,-86.914435,-82.413232,-86.526904,-112.07322099999999,-78.503428,-76.624981,-78.67451700000001,-80.423675,-80.278662,-79.942914,-157.818979,-87.651145,-96.84115600000001,-78.789458,-71.760689,-117.841248,-74.65936500000001,-106.62015500000001,-123.274723,-95.40079,-84.504747,-72.249948,-83.374039,-77.453597,-77.047871,-80.277446,-75.15826700000001,-95.247567,-72.289949,-71.40385,-117.15816799999999,-97.44569200000001,-81.945791,-71.120316,-111.81391,-93.648504,-79.946853,-95.403183,-73.12046,-119.846426,-75.752822,-83.072864,-83.925852,-83.925852,-92.326429,-88.420638,-72.526728,-84.176113,-94.776401,-96.700508,-122.058801,-81.026935,-70.934512,-147.823146,-98.57606,-90.120409,-81.19880500000001,-88.790139,-86.238959,-91.178921,-77.073463,-95.402035,-73.198128,-71.088782,-73.954912,-73.825014,-73.825014,-95.973966,-80.37759100000001,-79.954391,-85.758843,-96.58107700000001,-117.331098,-111.04881200000001,-74.177113,-75.188745,-123.07579199999999,-89.53743399999999,-105.57931,-95.343537,-106.705371,-71.481509,-82.835114,-75.158266,-77.30794,-121.874248,-85.488258,-119.815377,-84.38667,-73.678768,-117.02429599999999,-76.711607,-87.667498,-81.990651,-81.673052,-92.32004599999999,-71.254716,-104.89135800000001,-117.071228,-97.069743,-97.071738,-106.50356000000001,-94.410967,-76.30666,-113.98291200000001,-90.030435,-73.95055,-84.290226,-76.136975,-105.227148,-96.800838,-96.749702,-68.669332,-76.708214,-77.019478,-66.074894,-101.874783,-122.683553,-90.083145,-121.88062099999999,-71.036865,-73.92854100000001,-84.064881,-88.546403,-96.782139,-74.025334,-84.41186,-111.649281,-87.545766,-83.614714,-71.32508100000001,-97.368897,-71.171488,-90.23343,-97.115087,-77.67385999999999,-71.80879200000001,-73.943827,-98.621386,-87.880488,-115.141153,-89.331236,-81.511679,-87.657399,-87.627321,-111.653724,-86.568502,-76.300694,-75.378887,-75.2292,-83.64829499999999,-79.770152,-97.936392,-64.972866,-90.20663,-80.730919,-73.964795,-85.111747,-85.111747,-76.998961,-84.087246,-76.138976,-91.775583,-89.938068,-79.809844,-88.17871099999999,-106.907491,-116.205789,-92.01941,-98.172112,-117.260605,-84.41515600000001,-66.050009,-96.78485500000001,-80.10297800000001,-75.54053,-89.21727299999999,-67.139172,-76.584238,-73.816098,-76.339161,-81.04951,-74.175294,-86.80737099999999,-73.956603,-118.526817,-94.578039,-77.368291,-122.477905,-97.148422,-86.82937,-85.61511999999999,-120.424944,-118.242791,-112.429084,-149.82619,-73.960399,-120.657311,-78.891696,-118.11204,-104.96325900000001,-76.48169200000001,-73.81004200000001,-73.773975,-95.947029,-90.10730699999999,-78.898602,-97.29673299999999,-85.708492,-101.89359,-101.89359,-103.205753,-87.927961,-81.34253299999999,-88.766428,-87.21851099999999,-77.090106,-86.80567099999999,-80.624628,-155.081329,-84.35724,-81.245302,-97.260317,-82.42896400000001,-96.924664,-97.165273,-87.85963199999999,-117.71239399999999,-76.138724,-92.084385,-95.989475,-75.686852,-90.06464,-97.75763,-97.88234200000001,-80.24248,-76.26393,-96.010797,-66.620343,-90.068506,144.803978,-71.005528,-93.76080999999999,-95.945175,-91.142854,-117.32250800000001,-66.153758,-83.640896,-83.216418,-74.999359,-84.412584,-73.95312,-73.882705,-77.875527,-79.99304599999999,-82.366954,-88.99005799999999,-121.42193999999999,-92.649963,-84.77525,-70.385882,-117.15901299999999,-75.117974,-77.419886,-71.306605,-84.855488,-90.308886,-92.168509,-92.341835,-83.895548,-90.679988,-122.484873,-66.061647,-73.98841,-87.62724,-80.851185,-98.214866,-124.0814,-81.773578,-75.345457,-92.018683,-81.765034,-85.503957,-86.455898,-104.800296,-71.46556,-112.557,-117.885349,-76.616591,-95.211741,-87.47376,-121.79921599999999,-73.894627,-97.361537,-119.748258,-86.360618,-93.154662,-72.656755,-89.99777900000001,-117.851481,-73.983575,-95.361961,-85.40904300000001,-73.964027,-85.765321,-82.635657,-122.19145400000001,-72.573625,-74.004719,-91.190105,-91.190105,-74.199455,-81.782232,-122.43854099999999,-93.276821,-75.125303,-72.638097,-83.138369,-75.314988,-73.982236,-90.16076,-69.963942,-77.066247,-79.983773,-73.994636,-75.605705,-117.74773200000001,-86.295677,-117.710594,-82.565259,-70.276002,-92.459703,-81.063377,-71.054002,-118.259316,-78.87048399999999,-117.819019,-83.23141700000001,-72.961472,-117.188721,-73.60078,-76.993675,-157.859645,-94.37682099999999,-103.87096600000001,-92.58918299999999,-92.07374,-117.244243,-71.823537,-121.312301,-74.24875300000001,-104.692777,-95.249096,-76.759721,-84.583052,-77.538702,-81.680234,-95.546205,-76.21404100000001,-94.64908,-83.434021,-80.85431899999999,-73.176068,-71.260374,-101.9158,-87.632238,-74.14849,-122.63063999999999,-119.10471100000001,-73.928498,-121.938189,-83.624415,-81.021412,-76.882616,-76.611164,-73.203132,-73.6078,-87.040172,-97.11335799999999,-120.53836799999999,-117.71194399999999,-75.128089,-77.788106,-83.876795,-134.63825500000002,-73.894345,-90.574607,-85.887519,-75.35427800000001,-123.108777,-87.592591,-97.470985,-73.167069,-81.507853,-80.224905,-73.983417,-72.948806,-73.7526,-84.411527,-117.583808,-80.854842,-83.71435600000001,-121.785177,-93.99945,-118.210783,-86.105376,-91.230149,-118.707077,-75.535,-72.518493,-68.80434699999999,-118.057754,-87.407085,-87.407085,-81.03140400000001,-72.714965,-95.35953,-87.907691,-70.203333,-81.767901,-75.208241,-114.111635,-92.457672,-84.141825,-69.66337,-84.463483,-71.060761,-93.652163,-66.056329,-85.299812,-123.030727,-105.219197,-80.64651500000001,-82.44045799999999,-112.18355600000001,-79.011767,-84.30135600000001,-75.209786,-71.437446,-90.468676,-92.71736700000001,-98.482577,-75.305207,-89.61462,-82.221786,-89.570934,-76.319037,-117.72351,-73.796104,-121.84485900000001,-77.821999,-71.691164,-99.435225,-87.919973,-87.610344,-72.688684,-99.09806999999999,-95.908451,-122.18789,-83.186258,-77.947188,-77.947188,-76.494364,-73.596728,-122.362923,-93.183633,-73.973639,-122.3197,-72.107321,-80.845236,-85.587548,-170.742774,-71.26404699999999,-93.169855,-95.098129,-97.496289,-73.785335,-89.614917,-118.41574399999999,-86.65270500000001,-149.804242,-93.24141800000001,-91.50043199999999,-83.25003000000001,-117.706593,-94.15299999999999,-90.195552,-122.67326100000001,-71.08652099999999,-80.05556800000001,-94.072244,-117.88795,-72.518789,-97.129088,-73.42832,-118.017342,-88.323629,-65.983869,-74.199465,-73.466536,-86.89523,-78.637693,-102.329634,-71.070645,-93.26302,-122.058073,-75.238343,-72.660129,-75.59812,-75.40819499999999,-66.006259,-103.34819,-73.25778000000001,-95.901756,-79.50563199999999,-117.403062,-77.197854,-75.655478,-93.661686,-73.778132,-117.88615800000001,-79.159869,-71.065384,-104.82269699999999,-80.146922,-122.52698899999999,-92.721246,-87.35408100000001,-74.234668,-122.27134,-83.16658100000001,-87.40385699999999,-122.45097700000001,-80.690804,-71.407692,-84.3655,-103.65146899999999,-76.7423,-94.704782,-71.061788,-119.04356000000001,-83.96427299999999,-120.852511,-74.531087,-94.561374,-93.189422,-90.801571,-82.465582,-74.737833,-80.236625,-74.006447,-79.036689,-84.911464,-78.481107,-75.214198,-72.770094,-93.215648,-117.500054,-75.153061,-80.406021,-122.231551,-85.917772,-94.319888,-82.562951,-72.218753],\"rank\":[1,2,3,4,5,6,7,8,9,10,11,12,13,14,15,16,17,18,352,19,20,235,21,22,23,24,25,26,27,28,29,30,31,128,32,33,34,35,36,37,38,39,40,41,42,43,343,44,45,46,47,49,50,51,52,53,54,55,56,57,58,59,60,61,62,63,64,66,67,68,69,70,73,74,75,76,77,78,79,80,81,82,83,84,85,86,87,88,89,90,91,92,93,94,95,96,97,98,99,220,100,101,102,103,104,105,106,107,108,109,110,111,112,113,114,115,116,117,118,119,120,121,221,122,123,124,125,126,127,129,130,131,132,133,134,135,136,137,138,139,140,141,142,143,144,145,146,147,149,150,151,152,153,154,155,156,157,158,159,160,161,162,163,164,165,166,167,168,169,170,171,172,173,174,175,176,177,178,179,180,181,182,183,184,185,186,187,188,189,190,191,192,193,194,195,196,197,198,199,200,201,202,203,204,205,206,207,208,209,210,211,212,213,214,451,215,216,217,219,222,223,224,225,226,227,228,229,230,231,232,233,234,236,237,238,239,240,241,243,244,245,246,247,248,249,250,251,252,253,254,256,257,258,259,260,261,262,263,264,265,266,267,268,269,270,271,371,272,273,274,275,276,277,278,279,280,281,282,283,284,285,286,287,288,289,290,291,292,293,294,295,296,297,298,299,300,301,302,303,305,306,307,308,310,311,312,313,314,315,316,317,318,319,320,321,322,323,324,325,326,327,328,329,330,331,332,333,334,335,336,337,338,339,340,341,342,344,345,346,347,348,349,350,351,353,354,355,356,357,358,359,360,361,362,363,364,365,366,367,369,370,372,373,374,375,376,391,377,378,379,380,381,382,383,384,385,386,387,388,389,390,392,393,394,395,396,397,398,399,400,401,402,403,404,405,406,407,408,409,410,411,412,413,414,415,416,417,418,419,420,421,422,423,424,425,426,427,428,429,429,431,432,433,434,435,436,437,438,439,440,441,442,443,444,445,446,447,448,449,450,452,453,454,455,456,457,458,459,460,461,461,463,464,465,466,467,468,468,470,471,471,473,474,475,476,477,477,479,480,594,481,482,483,484,485,486,487,488,489,490,490,492,493,494,495,497,498,499,500,501,502,503,504,505,506,507,508,509,510,511,512,513,514,515,516,517,518,519,520,521,522,523,524,525,526,526,528,554,529,530,531,532,533,534,535,536,537,538,539,540,541,542,543,544,545,546,547,547,549,550,551,552,555,556,557,558,559,560,561,562,563,564,564,564,564,568,569,570,571,572,573,574,575,576,577,578,579,580,581,582,583,584,585,586,587,588,589,590,591,592,593,595,596,597,598,599,600,601,602,603,604,605,605,607,607,609,610,611,612,612,614,615,616,617,618,619,620,621,622,623,624,625,626,627,628,629,630,631,632,633,634]}},\"id\":\"2ae0a18d-6439-4623-abd8-30ae73dcdeaa\",\"type\":\"ColumnDataSource\"},{\"attributes\":{\"below\":[{\"id\":\"6a984476-a420-400c-b1db-79d88879403a\",\"type\":\"LinearAxis\"}],\"left\":[{\"id\":\"0f706499-bd68-453f-ade6-e1784c97aa5f\",\"type\":\"LinearAxis\"}],\"plot_height\":720,\"plot_width\":1080,\"renderers\":[{\"id\":\"6a984476-a420-400c-b1db-79d88879403a\",\"type\":\"LinearAxis\"},{\"id\":\"0ba0466f-a4b3-43d0-91e9-6e5379d1663a\",\"type\":\"Grid\"},{\"id\":\"0f706499-bd68-453f-ade6-e1784c97aa5f\",\"type\":\"LinearAxis\"},{\"id\":\"bab8139d-ab9a-4456-bc49-70a3561c1253\",\"type\":\"Grid\"},{\"id\":\"596ec490-be1a-47f1-80a1-1c40baaedcd1\",\"type\":\"BoxAnnotation\"},{\"id\":\"d0e7bf9b-f539-4945-9044-00c39b40df83\",\"type\":\"GlyphRenderer\"}],\"title\":{\"id\":\"bf7777df-76df-4d40-8f76-ca95462fab6c\",\"type\":\"Title\"},\"toolbar\":{\"id\":\"38d6d0ce-8dd6-4d3d-b440-372fc82137ef\",\"type\":\"Toolbar\"},\"toolbar_location\":\"below\",\"toolbar_sticky\":false,\"x_range\":{\"id\":\"c24a9610-2dba-49b3-b239-b3011d69aec1\",\"type\":\"DataRange1d\"},\"x_scale\":{\"id\":\"b76ebc66-fcc3-4f50-80a8-125e8cc00dbd\",\"type\":\"LinearScale\"},\"y_range\":{\"id\":\"81b826c3-8d81-4bb3-9d00-5f47df9b58e5\",\"type\":\"DataRange1d\"},\"y_scale\":{\"id\":\"185b76b1-2a67-4383-a28b-909c666f51c5\",\"type\":\"LinearScale\"}},\"id\":\"af750d68-e144-4334-b838-d1514b83e751\",\"subtype\":\"Figure\",\"type\":\"Plot\"},{\"attributes\":{},\"id\":\"9c859657-d874-48b8-a260-a35a118b6655\",\"type\":\"BasicTickFormatter\"}],\"root_ids\":[\"af750d68-e144-4334-b838-d1514b83e751\"]},\"title\":\"Bokeh Application\",\"version\":\"0.12.7\"}};\n",
       "            var render_items = [{\"docid\":\"da235029-7726-470a-9e0a-473744c03fcc\",\"elementid\":\"1b27d4dd-d333-4358-9af7-62548f2b13d1\",\"modelid\":\"af750d68-e144-4334-b838-d1514b83e751\"}];\n",
       "            \n",
       "            Bokeh.embed.embed_items(docs_json, render_items);\n",
       "          };\n",
       "          if (document.readyState != \"loading\") fn();\n",
       "          else document.addEventListener(\"DOMContentLoaded\", fn);\n",
       "        })();\n",
       "      },\n",
       "      function(Bokeh) {\n",
       "      }\n",
       "    ];\n",
       "  \n",
       "    function run_inline_js() {\n",
       "      \n",
       "      if ((root.Bokeh !== undefined) || (force === true)) {\n",
       "        for (var i = 0; i < inline_js.length; i++) {\n",
       "          inline_js[i].call(root, root.Bokeh);\n",
       "        }if (force === true) {\n",
       "          display_loaded();\n",
       "        }} else if (Date.now() < root._bokeh_timeout) {\n",
       "        setTimeout(run_inline_js, 100);\n",
       "      } else if (!root._bokeh_failed_load) {\n",
       "        console.log(\"Bokeh: BokehJS failed to load within specified timeout.\");\n",
       "        root._bokeh_failed_load = true;\n",
       "      } else if (force !== true) {\n",
       "        var cell = $(document.getElementById(\"1b27d4dd-d333-4358-9af7-62548f2b13d1\")).parents('.cell').data().cell;\n",
       "        cell.output_area.append_execute_result(NB_LOAD_WARNING)\n",
       "      }\n",
       "  \n",
       "    }\n",
       "  \n",
       "    if (root._bokeh_is_loading === 0) {\n",
       "      console.log(\"Bokeh: BokehJS loaded, going straight to plotting\");\n",
       "      run_inline_js();\n",
       "    } else {\n",
       "      load_libs(js_urls, function() {\n",
       "        console.log(\"Bokeh: BokehJS plotting callback run at\", now());\n",
       "        run_inline_js();\n",
       "      });\n",
       "    }\n",
       "  }(window));\n",
       "</script>"
      ]
     },
     "metadata": {},
     "output_type": "display_data"
    }
   ],
   "source": [
    "output_file(\"toolbar.html\")\n",
    "\n",
    "p = figure(plot_width=1080, plot_height=720, title=\"Points with Tooltips\",\n",
    "            toolbar_location='below', toolbar_sticky=False)\n",
    "p.add_glyph(source, circle)\n",
    "tools='pan, wheel_zoom, reset'\n",
    "p.add_tools\n",
    "hover = HoverTool()\n",
    "hover.tooltips =[\n",
    "    ('institution', '@institution'),\n",
    "    ('lon ', '@lon'),\n",
    "    ('lat ', '@lat'),\n",
    "    ('rank', '@rank'),\n",
    "    ('DOD ', '@DOD'),\n",
    "    ('DOE ', '@DOE'),\n",
    "    ('NSF ', '@NSF')\n",
    "\n",
    "    ]\n",
    "p.tools.append(hover)        \n",
    "         \n",
    "show(p)"
   ]
  },
  {
   "cell_type": "code",
   "execution_count": null,
   "metadata": {
    "collapsed": true
   },
   "outputs": [],
   "source": []
  },
  {
   "cell_type": "code",
   "execution_count": 46,
   "metadata": {
    "collapsed": false
   },
   "outputs": [],
   "source": []
  },
  {
   "cell_type": "code",
   "execution_count": null,
   "metadata": {
    "collapsed": true
   },
   "outputs": [],
   "source": []
  }
 ],
 "metadata": {
  "kernelspec": {
   "display_name": "Python 2",
   "language": "python",
   "name": "python2"
  },
  "language_info": {
   "codemirror_mode": {
    "name": "ipython",
    "version": 2
   },
   "file_extension": ".py",
   "mimetype": "text/x-python",
   "name": "python",
   "nbconvert_exporter": "python",
   "pygments_lexer": "ipython2",
   "version": "2.7.13"
  }
 },
 "nbformat": 4,
 "nbformat_minor": 0
}
