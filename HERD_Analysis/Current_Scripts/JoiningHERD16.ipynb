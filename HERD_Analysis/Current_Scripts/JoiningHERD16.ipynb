{
 "cells": [
  {
   "cell_type": "code",
   "execution_count": 214,
   "metadata": {},
   "outputs": [],
   "source": [
    "import pandas as pd\n",
    "from pandas import read_csv, read_excel\n",
    "from pandas import Series\n",
    "\n"
   ]
  },
  {
   "cell_type": "code",
   "execution_count": null,
   "metadata": {},
   "outputs": [],
   "source": []
  },
  {
   "cell_type": "code",
   "execution_count": 215,
   "metadata": {},
   "outputs": [],
   "source": [
    "#Hardcoded due to relative pathing errors. Data loaded.\n",
    "#HERD2016_DST_21.xlsx has merged cells that are not read in correctly.  Used names to hard code labels headers.\n",
    "data1= pd.read_excel(\"C:/Users/cgdeer/HERD_Analysis/2016/HERD2016_DST_21.xlsx\",\n",
    "                     skiprows=5, #skip 5 to start going into the data directly, 3 from blank formatting and 2 from the merged cell for the header\n",
    "                     header=None,names=['Rank','Institution',\n",
    "                                        \"All R&D Expenditures\",\n",
    "                                        'u0',\"Federal Government\", \n",
    "                                        'u1',\"State and local government\",\n",
    "                                        'u2','Institution Funds', \n",
    "                                        'u3',\"Business\", \n",
    "                                        'u4','Non-Profit Organizations', \n",
    "                                        'u5', 'All other sources', 'u6'],\n",
    "                     skipfooter=4)\n",
    "data2= pd.read_excel(\"C:/Users/cgdeer/HERD_Analysis/2016/HERD2016_DST_22.xlsx\",\n",
    "                    skiprows=3, skipfooter=7)\n",
    "data3= pd.read_excel(\"C:/Users/cgdeer/HERD_Analysis/2016/HERD2016_DST_24.xlsx\",\n",
    "                    skiprows=3, skipfooter=7)\n",
    "data4= pd.read_excel(\"c:/Users/cgdeer/HERD_Analysis/2016/HERD2016_DST_25wid.xlsx\",\n",
    "                     skiprows=3, skipfooter=7)"
   ]
  },
  {
   "cell_type": "code",
   "execution_count": 216,
   "metadata": {},
   "outputs": [],
   "source": [
    "#Culling of extra columns, cell grows by output\n",
    "data4.head(6)\n",
    "FedFy2016byAgency=data4\n",
    "len(FedFy2016byAgency)\n",
    "FedFy2016byAgency.index_col=\"Institution\"\n",
    "list(FedFy2016byAgency)\n",
    "cols4= ['UNITID',\n",
    "        'Rank',\n",
    "        'Institution',\n",
    "        'All federal R&D expenditures',\n",
    "        'DOD',\n",
    "        'DOE',\n",
    "        'HHS',\n",
    "        'NASA',\n",
    "        'NSF',\n",
    "        'USDA',\n",
    "        'Othera']\n",
    "FedFy2016byAgency=data4[cols4]\n",
    "FedFy2016byAgency;"
   ]
  },
  {
   "cell_type": "code",
   "execution_count": 217,
   "metadata": {},
   "outputs": [],
   "source": [
    "data2;"
   ]
  },
  {
   "cell_type": "code",
   "execution_count": 218,
   "metadata": {},
   "outputs": [],
   "source": [
    "data3;"
   ]
  },
  {
   "cell_type": "code",
   "execution_count": 219,
   "metadata": {},
   "outputs": [],
   "source": [
    "data2.head(5)\n",
    "DataFy2016byField=data2\n",
    "len(DataFy2016byField)\n",
    "DataFy2016byField.index_col=\"Institution\"\n",
    "list(DataFy2016byField)\n",
    "cols2=['Rank',\n",
    " 'Institution',\n",
    " 'All R&D expenditures',\n",
    " 'Computer and information sciencesa',\n",
    " 'Geosciences, atmospheric sciences, and ocean sciencesa',\n",
    " 'Life sciences',\n",
    " 'Mathematics and statisticsa',\n",
    " 'Physical sciences',\n",
    " 'Psychology',\n",
    " 'Social sciences',\n",
    " 'Sciences, nec',\n",
    " 'Engineering',\n",
    " 'All non-S&E fields']\n",
    "DataFy2016byField=data2[cols2];"
   ]
  },
  {
   "cell_type": "code",
   "execution_count": 220,
   "metadata": {},
   "outputs": [],
   "source": [
    "data3.head(6)\n",
    "FedFy2016byField=data3\n",
    "len(FedFy2016byField)\n",
    "FedFy2016byField.index_col=\"Institution\"\n",
    "list(FedFy2016byField)\n",
    "FedFy2016byField=data3[cols2];"
   ]
  },
  {
   "cell_type": "code",
   "execution_count": 221,
   "metadata": {},
   "outputs": [],
   "source": [
    "cols= ['Rank',\n",
    " 'Institution',\n",
    " 'All R&D Expenditures',\n",
    " 'Federal Government',\n",
    " 'State and local government',\n",
    " 'Institution Funds',\n",
    " 'Business',\n",
    " 'Non-Profit Organizations',\n",
    " 'All other sources']\n",
    "DataFy2016bySource = data1[cols]\n",
    "len(DataFy2016bySource)\n",
    "DataFy2016bySource.index_col=\"Institution\";"
   ]
  },
  {
   "cell_type": "code",
   "execution_count": 222,
   "metadata": {},
   "outputs": [],
   "source": [
    "DataFy2016bySource.head(3);\n",
    "FedFy2016byAgency.head(3);"
   ]
  },
  {
   "cell_type": "code",
   "execution_count": null,
   "metadata": {},
   "outputs": [],
   "source": []
  },
  {
   "cell_type": "markdown",
   "metadata": {},
   "source": [
    "Information from HERD2016_DST_22.xlsx is contained in data frame DataFy2016byField, columns from this frame are suffixed '_x'\n",
    "\n",
    "\n",
    "Information from HERD2016_DST_24.xlsx is contained in data frame  FedFy2016byField, columns from this frame are suffixed '_y'"
   ]
  },
  {
   "cell_type": "code",
   "execution_count": 223,
   "metadata": {},
   "outputs": [],
   "source": [
    "Merged = pd.merge(DataFy2016byField,FedFy2016byField, how='left', on=\"Institution\")\n",
    "Merged2 = pd.merge(Merged, FedFy2016byAgency, how='right', on='Institution')\n",
    "PartialMerge=pd.merge(Merged2, DataFy2016bySource, on='Institution', how='left')"
   ]
  },
  {
   "cell_type": "code",
   "execution_count": 224,
   "metadata": {},
   "outputs": [],
   "source": [
    "list(Merged);"
   ]
  },
  {
   "cell_type": "code",
   "execution_count": 225,
   "metadata": {},
   "outputs": [],
   "source": [
    "PartialMerge.head(3);"
   ]
  },
  {
   "cell_type": "code",
   "execution_count": 226,
   "metadata": {},
   "outputs": [],
   "source": [
    "#len(Merged2)\n",
    "len(PartialMerge);"
   ]
  },
  {
   "cell_type": "code",
   "execution_count": 227,
   "metadata": {},
   "outputs": [
    {
     "data": {
      "text/plain": [
       "['Rank_x',\n",
       " 'Institution',\n",
       " 'All R&D expenditures_x',\n",
       " 'Computer and information sciencesa_x',\n",
       " 'Geosciences, atmospheric sciences, and ocean sciencesa_x',\n",
       " 'Life sciences_x',\n",
       " 'Mathematics and statisticsa_x',\n",
       " 'Physical sciences_x',\n",
       " 'Psychology_x',\n",
       " 'Social sciences_x',\n",
       " 'Sciences, nec_x',\n",
       " 'Engineering_x',\n",
       " 'All non-S&E fields_x',\n",
       " 'Rank_y',\n",
       " 'All R&D expenditures_y',\n",
       " 'Computer and information sciencesa_y',\n",
       " 'Geosciences, atmospheric sciences, and ocean sciencesa_y',\n",
       " 'Life sciences_y',\n",
       " 'Mathematics and statisticsa_y',\n",
       " 'Physical sciences_y',\n",
       " 'Psychology_y',\n",
       " 'Social sciences_y',\n",
       " 'Sciences, nec_y',\n",
       " 'Engineering_y',\n",
       " 'All non-S&E fields_y',\n",
       " 'UNITID',\n",
       " 'Rank_x',\n",
       " 'All federal R&D expenditures',\n",
       " 'DOD',\n",
       " 'DOE',\n",
       " 'HHS',\n",
       " 'NASA',\n",
       " 'NSF',\n",
       " 'USDA',\n",
       " 'Othera',\n",
       " 'Rank_y',\n",
       " 'All R&D Expenditures',\n",
       " 'Federal Government',\n",
       " 'State and local government',\n",
       " 'Institution Funds',\n",
       " 'Business',\n",
       " 'Non-Profit Organizations',\n",
       " 'All other sources']"
      ]
     },
     "execution_count": 227,
     "metadata": {},
     "output_type": "execute_result"
    }
   ],
   "source": [
    "#check column names\n",
    "list(PartialMerge)"
   ]
  },
  {
   "cell_type": "markdown",
   "metadata": {},
   "source": [
    "#reparse to remove extra columns, also reordered to put _x _y pairs together for easier table comparison\n",
    "colsPartial=['UNITID',\n",
    " 'Rank_x',\n",
    " 'Institution',\n",
    " 'All R&D expenditures_x',\n",
    " 'All R&D expenditures_y',\n",
    " 'Computer and information sciencesa_x',\n",
    " 'Computer and information sciencesa_y',\n",
    " 'Geosciences, atmospheric sciences, and ocean sciencesa_x',\n",
    " 'Geosciences, atmospheric sciences, and ocean sciencesa_y',\n",
    " 'Life sciences_x',\n",
    " 'Life sciences_y',\n",
    " 'Mathematics and statisticsa_x',\n",
    " 'Mathematics and statisticsa_y',\n",
    " 'Physical sciences_x',\n",
    " 'Physical sciences_y',\n",
    " 'Psychology_x',\n",
    " 'Psychology_y',\n",
    " 'Social sciences_x',\n",
    " 'Social sciences_y',\n",
    " 'Sciences, nec_x',\n",
    " 'Sciences, nec_y',\n",
    " 'Engineering_x',\n",
    " 'Engineering_y',\n",
    " 'All non-S&E fields_x',\n",
    " 'All non-S&E fields_y',\n",
    " 'All federal R&D expenditures',\n",
    " 'DOD',\n",
    " 'DOE',\n",
    " 'HHS',\n",
    " 'NASA',\n",
    " 'NSF',\n",
    " 'USDA',\n",
    " 'Othera',\n",
    " 'All R&D Expenditures',\n",
    " 'Federal Government',\n",
    " 'State and local government',\n",
    " 'Institution Funds',\n",
    " 'Business',\n",
    " 'Non-Profit Organizations',\n",
    " 'All other sources']"
   ]
  },
  {
   "cell_type": "markdown",
   "metadata": {},
   "source": [
    "PartialMerge= PartialMerge[colsPartial]\n",
    "list(PartialMerge)\n",
    "len(PartialMerge)"
   ]
  },
  {
   "cell_type": "code",
   "execution_count": 228,
   "metadata": {},
   "outputs": [],
   "source": [
    "list(PartialMerge['Institution']\n",
    "    );"
   ]
  },
  {
   "cell_type": "markdown",
   "metadata": {},
   "source": [
    "load csvs for check, Hardcoded due to pathing problems."
   ]
  },
  {
   "cell_type": "code",
   "execution_count": 229,
   "metadata": {},
   "outputs": [],
   "source": [
    "dataCkR1= pd.read_csv(\"c:/Users/cgdeer/HERD_Analysis/IDfocused/R1wid.csv\",\n",
    "                   index_col='UNITID')\n",
    "CkABOR= pd.read_csv(\"C:/Users/cgdeer/HERD_Analysis/IDfocused/ABOR_Peers_ASU_UA_NAUwid.csv\", index_col='UNITID')\n",
    "CkAAU= pd.read_csv(\"C:/Users/cgdeer/HERD_Analysis/IDfocused/AAUwid.csv\", index_col='UNITID')\n",
    "len(dataCkR1)  \n",
    "dataCkR1.head(115);"
   ]
  },
  {
   "cell_type": "code",
   "execution_count": 230,
   "metadata": {},
   "outputs": [],
   "source": [
    "CkMR1=pd.merge(dataCkR1,PartialMerge, how='left', on='UNITID')\n",
    "CkABORPeer=pd.merge(CkABOR,PartialMerge,how='left', on='UNITID')\n",
    "CkAAUgroup=pd.merge(CkAAU,PartialMerge,how='left', on='UNITID');"
   ]
  },
  {
   "cell_type": "code",
   "execution_count": 233,
   "metadata": {},
   "outputs": [
    {
     "data": {
      "text/plain": [
       "115"
      ]
     },
     "execution_count": 233,
     "metadata": {},
     "output_type": "execute_result"
    }
   ],
   "source": [
    "len(CkMR1)\n",
    "#CkMR1.head(16)\n",
    "len(dataCkR1)\n",
    "#found that there were three dupes of IDs UNITIDs in HERD2016_DST_25wid.xlsx.\n",
    "#U.Tennessee Knoxville, and U. Tennessee Knoxville Institute of Ag, \n",
    "#U.Alabama at Birmingham, U.Alabama Huntsville,\n",
    "#and SUNY Albany, and SUNY Birmingham U.\n",
    "\n",
    "#How we rectified this:\n",
    "#SUNY Birmingham U assumed to be SUNY Broome Community College, Birmingham (assigned 189547)\n",
    "#U. Alabama Huntsville was misassigned.  (Changed to 100706)\n",
    "#U.Tennesee Knoxville Institute of Ag UNITID removed completely as IPEDs does not supply \n",
    "#a unique ID for this Institution\n",
    "\n",
    "#Reintroduction of amended HERD2016_DST_25wid.xlsx fixes length incongruences, WE ARE FIT FOR PRINT!"
   ]
  },
  {
   "cell_type": "code",
   "execution_count": 235,
   "metadata": {},
   "outputs": [
    {
     "data": {
      "text/plain": [
       "45"
      ]
     },
     "execution_count": 235,
     "metadata": {},
     "output_type": "execute_result"
    }
   ],
   "source": [
    "len(CkABORPeer)\n",
    "#len(CkABOR)\n",
    "#CkABORPeer.head(47)"
   ]
  },
  {
   "cell_type": "code",
   "execution_count": 236,
   "metadata": {},
   "outputs": [
    {
     "data": {
      "text/plain": [
       "59"
      ]
     },
     "execution_count": 236,
     "metadata": {},
     "output_type": "execute_result"
    }
   ],
   "source": [
    "len(CkAAUgroup)\n",
    "len(CkAAU)"
   ]
  },
  {
   "cell_type": "code",
   "execution_count": 165,
   "metadata": {},
   "outputs": [],
   "source": [
    "colsR1= ['UNITID', 'University','Institution'];\n"
   ]
  },
  {
   "cell_type": "code",
   "execution_count": 166,
   "metadata": {},
   "outputs": [],
   "source": [
    "dfcols= PartialMerge;"
   ]
  },
  {
   "cell_type": "code",
   "execution_count": 167,
   "metadata": {},
   "outputs": [],
   "source": [
    "dfcols.head();"
   ]
  },
  {
   "cell_type": "code",
   "execution_count": 240,
   "metadata": {},
   "outputs": [],
   "source": [
    "#save out to check for inconsistencies, oddly enough relative paths worked here.\n",
    "PartialMerge.to_csv(\"~//HERD_Analysis/2016/HERD2016Merge.csv\", encoding=\"utf-8\")\n",
    "#CkABORPeer.to_csv('~//HERD_Analysis/2016/CkABOR.csv')"
   ]
  },
  {
   "cell_type": "code",
   "execution_count": null,
   "metadata": {
    "collapsed": true
   },
   "outputs": [],
   "source": []
  },
  {
   "cell_type": "code",
   "execution_count": null,
   "metadata": {
    "collapsed": true
   },
   "outputs": [],
   "source": [
    "list(Merged.columns.values)\n"
   ]
  }
 ],
 "metadata": {
  "kernelspec": {
   "display_name": "Python 3",
   "language": "python",
   "name": "python3"
  },
  "language_info": {
   "codemirror_mode": {
    "name": "ipython",
    "version": 3
   },
   "file_extension": ".py",
   "mimetype": "text/x-python",
   "name": "python",
   "nbconvert_exporter": "python",
   "pygments_lexer": "ipython3",
   "version": "3.5.6"
  }
 },
 "nbformat": 4,
 "nbformat_minor": 1
}
